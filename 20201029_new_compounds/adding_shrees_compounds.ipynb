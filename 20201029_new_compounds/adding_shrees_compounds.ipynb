{
 "cells": [
  {
   "cell_type": "code",
   "execution_count": 11,
   "metadata": {},
   "outputs": [],
   "source": [
    "import pandas as pd\n",
    "import numpy as np\n",
    "\n",
    "import psycopg2\n",
    "with open('/home/pstjohn/bdeops_pass', 'r') as f:\n",
    "    passwd = f.read().strip()\n",
    "\n",
    "dbparams = {\n",
    "    'dbname': 'bde',\n",
    "    'port': 5432,\n",
    "    'host': 'yuma.hpc.nrel.gov',\n",
    "    'user': 'bdeops',\n",
    "    'password': passwd,\n",
    "    'options': f'-c search_path=bde',\n",
    "}"
   ]
  },
  {
   "cell_type": "code",
   "execution_count": 16,
   "metadata": {},
   "outputs": [],
   "source": [
    "from tqdm import tqdm\n",
    "from bde.fragment import fragment_iterator"
   ]
  },
  {
   "cell_type": "code",
   "execution_count": 21,
   "metadata": {},
   "outputs": [],
   "source": [
    "smiles_to_add = pd.Series([\n",
    "    'FC(F)(F)F', \n",
    "    'FC(C)(F)F', \n",
    "    'FC(C)(C)F', \n",
    "    'CC(C)(C)F', \n",
    "    'ClC(Cl)(Cl)Cl', \n",
    "    'ClC(C)(Cl)Cl', \n",
    "    'ClC(C)(C)Cl', \n",
    "    'CC(C)(C)C', \n",
    "    'BrC(Br)(Br)Br', \n",
    "    'BrC(C)(Br)Br', \n",
    "    'BrC(C)(C)Br', \n",
    "    'CC(C)(C)Br', \n",
    "    'IC(I)(I)I', \n",
    "    'IC(C)(I)I', \n",
    "    'IC(C)(C)I', \n",
    "    'CC(C)(C)I', \n",
    "    'FC(F)F', \n",
    "    'FCF', \n",
    "    'CF', \n",
    "    'ClC(Cl)Cl',\n",
    "    'ClCCl', \n",
    "    'CCl', \n",
    "    'BrC(Br)Br', \n",
    "    'BrCBr', \n",
    "    'CBr', \n",
    "    'IC(I)I', \n",
    "    'ICI', \n",
    "    'CI'\n",
    "])"
   ]
  },
  {
   "cell_type": "code",
   "execution_count": 25,
   "metadata": {},
   "outputs": [
    {
     "data": {
      "text/plain": [
       "False"
      ]
     },
     "execution_count": 25,
     "metadata": {},
     "output_type": "execute_result"
    }
   ],
   "source": [
    "smiles_to_add = smiles_to_add.apply(lambda x: rdkit.Chem.MolToSmiles(rdkit.Chem.MolFromSmiles(x)))\n",
    "smiles_to_add.duplicated().any()"
   ]
  },
  {
   "cell_type": "code",
   "execution_count": 31,
   "metadata": {},
   "outputs": [
    {
     "name": "stderr",
     "output_type": "stream",
     "text": [
      "100%|██████████| 28/28 [00:05<00:00,  4.74it/s]\n"
     ]
    }
   ],
   "source": [
    "def ysi_frag_iterator():\n",
    "    for smiles in tqdm(smiles_to_add):\n",
    "        for row in fragment_iterator(smiles):\n",
    "            yield row\n",
    "\n",
    "rdf_to_add = pd.DataFrame(ysi_frag_iterator())\n",
    "rdf_to_add = rdf_to_add[rdf_to_add.is_valid_stereo]"
   ]
  },
  {
   "cell_type": "code",
   "execution_count": 26,
   "metadata": {},
   "outputs": [
    {
     "data": {
      "text/html": [
       "<div>\n",
       "<style scoped>\n",
       "    .dataframe tbody tr th:only-of-type {\n",
       "        vertical-align: middle;\n",
       "    }\n",
       "\n",
       "    .dataframe tbody tr th {\n",
       "        vertical-align: top;\n",
       "    }\n",
       "\n",
       "    .dataframe thead th {\n",
       "        text-align: right;\n",
       "    }\n",
       "</style>\n",
       "<table border=\"1\" class=\"dataframe\">\n",
       "  <thead>\n",
       "    <tr style=\"text-align: right;\">\n",
       "      <th></th>\n",
       "      <th>SMILES</th>\n",
       "      <th>Type</th>\n",
       "    </tr>\n",
       "  </thead>\n",
       "  <tbody>\n",
       "    <tr>\n",
       "      <th>0</th>\n",
       "      <td>FC(F)(F)F</td>\n",
       "      <td>molecule</td>\n",
       "    </tr>\n",
       "    <tr>\n",
       "      <th>1</th>\n",
       "      <td>F[C](F)F</td>\n",
       "      <td>fragment</td>\n",
       "    </tr>\n",
       "    <tr>\n",
       "      <th>2</th>\n",
       "      <td>[F]</td>\n",
       "      <td>fragment</td>\n",
       "    </tr>\n",
       "    <tr>\n",
       "      <th>3</th>\n",
       "      <td>FC(C)(F)F</td>\n",
       "      <td>molecule</td>\n",
       "    </tr>\n",
       "    <tr>\n",
       "      <th>4</th>\n",
       "      <td>C[C](F)F</td>\n",
       "      <td>fragment</td>\n",
       "    </tr>\n",
       "  </tbody>\n",
       "</table>\n",
       "</div>"
      ],
      "text/plain": [
       "      SMILES      Type\n",
       "0  FC(F)(F)F  molecule\n",
       "1   F[C](F)F  fragment\n",
       "2        [F]  fragment\n",
       "3  FC(C)(F)F  molecule\n",
       "4   C[C](F)F  fragment"
      ]
     },
     "execution_count": 26,
     "metadata": {},
     "output_type": "execute_result"
    }
   ],
   "source": [
    "cdf_to_add = rdf_to_add[['molecule', 'fragment1', 'fragment2']].drop_duplicates().melt(\n",
    "    value_name='SMILES', var_name='Type').drop_duplicates(subset='SMILES').reset_index(drop=True)\n",
    "\n",
    "# Reorder the cdf such that reactions are collocated\n",
    "calc_order = rdf_to_add[['molecule', 'fragment1', 'fragment2']].values.flatten()\n",
    "calc_order = pd.Series(calc_order, name='SMILES').drop_duplicates()\n",
    "\n",
    "cdf_to_add = cdf_to_add.set_index('SMILES').reindex(calc_order).reset_index()\n",
    "cdf_to_add.Type = cdf_to_add.Type.str.replace('\\d$', '')\n",
    "cdf_to_add.head()"
   ]
  },
  {
   "cell_type": "code",
   "execution_count": 27,
   "metadata": {},
   "outputs": [],
   "source": [
    "with psycopg2.connect(**dbparams) as conn:\n",
    "    rdf = pd.read_sql_query(\"\"\"\n",
    "    SELECT *\n",
    "    FROM reaction\n",
    "    ORDER BY rid\n",
    "    ;\n",
    "    \"\"\", conn)\n",
    "    \n",
    "with psycopg2.connect(**dbparams) as conn:\n",
    "    cdf = pd.read_sql_query(\"\"\"\n",
    "    SELECT *\n",
    "    FROM unique_compound\n",
    "    where status='finished'\n",
    "    ;\n",
    "    \"\"\", conn)"
   ]
  },
  {
   "cell_type": "code",
   "execution_count": 36,
   "metadata": {},
   "outputs": [
    {
     "name": "stderr",
     "output_type": "stream",
     "text": [
      "100%|██████████| 40/40 [00:00<00:00, 1185.67it/s]\n"
     ]
    }
   ],
   "source": [
    "cdf_to_add2 = cdf_to_add[~cdf_to_add.SMILES.isin(cdf.smiles)]\n",
    "\n",
    "with psycopg2.connect(**dbparams) as conn:\n",
    "    with conn.cursor() as cur:\n",
    "        for i, row in tqdm(cdf_to_add2.iterrows(), total=len(cdf_to_add2)):\n",
    "            cur.execute(\"\"\"\n",
    "            INSERT INTO Compound (smiles, type, run)\n",
    "            VALUES (%s, %s, 21) RETURNING id\n",
    "            \"\"\", (row.SMILES, row.Type))"
   ]
  },
  {
   "cell_type": "code",
   "execution_count": 40,
   "metadata": {},
   "outputs": [],
   "source": [
    "# Make sure we're not adding duplicate reactions\n",
    "merged_rdf = rdf_to_add.merge(rdf, on=['molecule', 'bond_index'])\n",
    "rdf_to_add2 = rdf_to_add[~rdf_to_add.index.isin(merged_rdf.index)]"
   ]
  },
  {
   "cell_type": "code",
   "execution_count": 41,
   "metadata": {},
   "outputs": [
    {
     "name": "stderr",
     "output_type": "stream",
     "text": [
      "100%|██████████| 171/171 [00:00<00:00, 1736.29it/s]\n"
     ]
    }
   ],
   "source": [
    "with psycopg2.connect(**dbparams) as conn:\n",
    "    with conn.cursor() as cur:\n",
    "        for i, row in tqdm(rdf_to_add2.iterrows(), total=len(rdf_to_add2)):\n",
    "            cur.execute(\"\"\"\n",
    "            INSERT INTO reaction (molecule, bond_index, fragment1, fragment2, bond_type)\n",
    "            VALUES (%s, %s, %s, %s, %s)\n",
    "            \"\"\", (row.molecule, row.bond_index, row.fragment1, row.fragment2, row.bond_type))"
   ]
  }
 ],
 "metadata": {
  "kernelspec": {
   "display_name": "Python 3",
   "language": "python",
   "name": "python3"
  },
  "language_info": {
   "codemirror_mode": {
    "name": "ipython",
    "version": 3
   },
   "file_extension": ".py",
   "mimetype": "text/x-python",
   "name": "python",
   "nbconvert_exporter": "python",
   "pygments_lexer": "ipython3",
   "version": "3.7.8"
  }
 },
 "nbformat": 4,
 "nbformat_minor": 4
}
