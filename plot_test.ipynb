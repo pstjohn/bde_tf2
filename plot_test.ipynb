{
 "cells": [
  {
   "cell_type": "code",
   "execution_count": 1,
   "metadata": {},
   "outputs": [],
   "source": [
    "import numpy as np\n",
    "import pandas as pd\n",
    "\n",
    "import matplotlib.pyplot as plt\n",
    "import seaborn as sns\n",
    "sns.set(context='talk', style='ticks',\n",
    "        color_codes=True, rc={'legend.frameon': False})\n",
    "\n",
    "%matplotlib inline"
   ]
  },
  {
   "cell_type": "code",
   "execution_count": 2,
   "metadata": {},
   "outputs": [],
   "source": [
    "import tensorflow as tf\n",
    "\n",
    "gpus = tf.config.experimental.list_physical_devices('GPU')\n",
    "if gpus:\n",
    "    # Currently, memory growth needs to be the same across GPUs\n",
    "    for gpu in gpus:\n",
    "        tf.config.experimental.set_memory_growth(gpu, True)"
   ]
  },
  {
   "cell_type": "code",
   "execution_count": 3,
   "metadata": {},
   "outputs": [],
   "source": [
    "bde = pd.read_csv('20200614_rdf_new_elements.csv.gz', index_col=0)\n",
    "\n",
    "train = bde[bde.set == 'train'].molecule.unique()\n",
    "valid = bde[bde.set == 'valid'].molecule.unique()\n",
    "test = bde[bde.set == 'test'].molecule.unique()\n",
    "\n",
    "from preprocess_inputs import preprocessor\n",
    "preprocessor.from_json('tfrecords/preprocessor.json')"
   ]
  },
  {
   "cell_type": "code",
   "execution_count": 4,
   "metadata": {},
   "outputs": [],
   "source": [
    "test_dataset = tf.data.Dataset.from_generator(\n",
    "    lambda: (preprocessor.construct_feature_matrices(smiles, train=False) for smiles in test),\n",
    "    output_types=preprocessor.output_types,\n",
    "    output_shapes=preprocessor.output_shapes)\\\n",
    "    .padded_batch(batch_size=128, padded_shapes=preprocessor.padded_shapes(max_bonds=64),  # explicit padding required for consistent output shape\n",
    "                  padding_values=preprocessor.padding_values)"
   ]
  },
  {
   "cell_type": "code",
   "execution_count": 5,
   "metadata": {},
   "outputs": [
    {
     "data": {
      "text/plain": [
       "<matplotlib.axes._subplots.AxesSubplot at 0x7ff6dcaf5510>"
      ]
     },
     "execution_count": 5,
     "metadata": {},
     "output_type": "execute_result"
    },
    {
     "data": {
      "image/png": "[encoded data removed]",
      "text/plain": [
       "<Figure size 432x288 with 1 Axes>"
      ]
     },
     "metadata": {
      "needs_background": "light"
     },
     "output_type": "display_data"
    }
   ],
   "source": [
    "pd.read_csv('20200614_trained_model/log.csv').set_index('epoch').plot()"
   ]
  },
  {
   "cell_type": "code",
   "execution_count": 6,
   "metadata": {},
   "outputs": [
    {
     "data": {
      "text/plain": [
       "epoch       0.000000\n",
       "loss        0.253398\n",
       "val_loss    0.716516\n",
       "dtype: float64"
      ]
     },
     "execution_count": 6,
     "metadata": {},
     "output_type": "execute_result"
    }
   ],
   "source": [
    "pd.read_csv('20200614_trained_model/log.csv').min()"
   ]
  },
  {
   "cell_type": "code",
   "execution_count": 7,
   "metadata": {},
   "outputs": [],
   "source": [
    "import nfp"
   ]
  },
  {
   "cell_type": "code",
   "execution_count": 8,
   "metadata": {},
   "outputs": [],
   "source": [
    "model = tf.keras.models.load_model('20200614_trained_model/best_model.hdf5', custom_objects=nfp.custom_objects)"
   ]
  },
  {
   "cell_type": "code",
   "execution_count": 9,
   "metadata": {},
   "outputs": [
    {
     "name": "stdout",
     "output_type": "stream",
     "text": [
      "8/8 [==============================] - 4s 455ms/step\n"
     ]
    }
   ],
   "source": [
    "predicted_bdes = model.predict(test_dataset, verbose=True)\n",
    "\n",
    "pivot_bdes = bde[bde.molecule.isin(test)].pivot(index='molecule', columns='bond_index', values='bde').reindex(test).values\n",
    "predicted_bdes = predicted_bdes[:, :pivot_bdes.shape[1], 0]"
   ]
  },
  {
   "cell_type": "code",
   "execution_count": 10,
   "metadata": {},
   "outputs": [
    {
     "data": {
      "text/plain": [
       "array([120.90864   , 113.24419   ,  91.3298    ,  86.66288   ,\n",
       "        85.99911   ,  87.18898   ,  87.18899   ,  85.999115  ,\n",
       "        86.66288   , 131.63138   ,  79.380875  ,  79.380875  ,\n",
       "       110.92064   , 111.09738   , 111.32838   , 111.097374  ,\n",
       "       110.92065   ,   0.13994144,   0.13994144,   0.13994144,\n",
       "         0.13994144,   0.13994144,   0.13994144,   0.13994144,\n",
       "         0.13994144,   0.13994144,   0.13994144,   0.13994144,\n",
       "         0.13994144,   0.13994144], dtype=float32)"
      ]
     },
     "execution_count": 10,
     "metadata": {},
     "output_type": "execute_result"
    }
   ],
   "source": [
    "predicted_bdes[0]"
   ]
  },
  {
   "cell_type": "code",
   "execution_count": 11,
   "metadata": {},
   "outputs": [
    {
     "data": {
      "text/plain": [
       "array([         nan, 113.10347718,  90.33807817,          nan,\n",
       "                nan,          nan,          nan,          nan,\n",
       "                nan,          nan,  79.15084772,  79.15084772,\n",
       "       111.00257705, 111.0063421 , 111.3897501 , 111.0063421 ,\n",
       "       111.00257705,          nan,          nan,          nan,\n",
       "                nan,          nan,          nan,          nan,\n",
       "                nan,          nan,          nan,          nan,\n",
       "                nan,          nan])"
      ]
     },
     "execution_count": 11,
     "metadata": {},
     "output_type": "execute_result"
    }
   ],
   "source": [
    "pivot_bdes[0]"
   ]
  },
  {
   "cell_type": "code",
   "execution_count": 12,
   "metadata": {},
   "outputs": [
    {
     "data": {
      "image/png": "[encoded data removed]",
      "text/plain": [
       "<Figure size 288x288 with 1 Axes>"
      ]
     },
     "metadata": {
      "needs_background": "light"
     },
     "output_type": "display_data"
    }
   ],
   "source": [
    "fig = plt.figure(figsize=(4,4))\n",
    "ax = fig.add_subplot(111, aspect='equal')\n",
    "\n",
    "_ = plt.plot(predicted_bdes, pivot_bdes, '.', color='b', ms=1)"
   ]
  },
  {
   "cell_type": "code",
   "execution_count": 13,
   "metadata": {},
   "outputs": [
    {
     "data": {
      "text/plain": [
       "0.6558908738251576"
      ]
     },
     "execution_count": 13,
     "metadata": {},
     "output_type": "execute_result"
    }
   ],
   "source": [
    "np.nanmean(np.abs(predicted_bdes - pivot_bdes))"
   ]
  },
  {
   "cell_type": "code",
   "execution_count": null,
   "metadata": {},
   "outputs": [],
   "source": [
    "all_mols = bde.molecule.unique()\n",
    "\n",
    "bde_dataset = tf.data.Dataset.from_generator(\n",
    "    lambda: (preprocessor.construct_feature_matrices(smiles, train=False) for smiles in all_mols),\n",
    "    output_types=preprocessor.output_types,\n",
    "    output_shapes=preprocessor.output_shapes)\\\n",
    "    .padded_batch(batch_size=128, padded_shapes=preprocessor.padded_shapes(max_bonds=64),  # explicit padding required for consistent output shape\n",
    "                  padding_values=preprocessor.padding_values)"
   ]
  },
  {
   "cell_type": "code",
   "execution_count": null,
   "metadata": {},
   "outputs": [],
   "source": [
    "model.layers[-7].output"
   ]
  },
  {
   "cell_type": "code",
   "execution_count": null,
   "metadata": {},
   "outputs": [],
   "source": [
    "embedding_model = tf.keras.Model(model.inputs, [model.layers[-7].output])\n",
    "embeddings = embedding_model.predict(bde_dataset, verbose=True)"
   ]
  },
  {
   "cell_type": "code",
   "execution_count": null,
   "metadata": {},
   "outputs": [],
   "source": [
    "embeddings.shape"
   ]
  },
  {
   "cell_type": "code",
   "execution_count": null,
   "metadata": {},
   "outputs": [],
   "source": [
    "bond_indices = np.concatenate([np.arange(32) for _ in all_mols])\n",
    "mols = np.concatenate([np.array([mol] * 32) for mol in all_mols])\n",
    "\n",
    "index_df = pd.DataFrame(mols, columns=['molecule'])\n",
    "index_df['bond_index'] = bond_indices\n",
    "\n",
    "embed_df = pd.DataFrame(embeddings[:, :32, :].reshape((-1, 128)))\n",
    "embed_df = embed_df.join(index_df).set_index(['molecule', 'bond_index'])"
   ]
  },
  {
   "cell_type": "code",
   "execution_count": null,
   "metadata": {},
   "outputs": [],
   "source": [
    "bde = bde.sort_values('rid').reset_index()\n",
    "embed_df = embed_df.reindex(bde[['molecule', 'bond_index']])"
   ]
  },
  {
   "cell_type": "code",
   "execution_count": null,
   "metadata": {},
   "outputs": [],
   "source": [
    "bde[(bde.molecule == 'CCc1cc(O)cc(O)c1') & (bde.bond_index == 16)]"
   ]
  },
  {
   "cell_type": "code",
   "execution_count": null,
   "metadata": {},
   "outputs": [],
   "source": [
    "embed_df.iloc[89329]"
   ]
  },
  {
   "cell_type": "code",
   "execution_count": null,
   "metadata": {},
   "outputs": [],
   "source": [
    "from sklearn.neighbors import NearestNeighbors\n",
    "from sklearn.decomposition import PCA\n",
    "from sklearn.pipeline import Pipeline\n",
    "\n",
    "pipe = Pipeline(steps=(\n",
    "    ('PCA', PCA(n_components=10)),\n",
    "    ('NearestNeighbors', NearestNeighbors(n_neighbors=10))\n",
    "))\n",
    "\n",
    "pipe.fit(embed_df.values)"
   ]
  },
  {
   "cell_type": "code",
   "execution_count": null,
   "metadata": {},
   "outputs": [],
   "source": [
    "test_bond_embeddings = embed_df[embed_df.index.isin(test, level=0)].values"
   ]
  },
  {
   "cell_type": "code",
   "execution_count": null,
   "metadata": {},
   "outputs": [],
   "source": [
    "def pipe_kneighbors(pipe, X):\n",
    "    Xt = pipe.steps[0][-1].transform(X)\n",
    "    return pipe.steps[-1][-1].kneighbors(Xt)\n",
    "\n",
    "distances, indices = pipe_kneighbors(pipe, test_bond_embeddings)"
   ]
  },
  {
   "cell_type": "code",
   "execution_count": null,
   "metadata": {},
   "outputs": [],
   "source": [
    "indices"
   ]
  },
  {
   "cell_type": "code",
   "execution_count": null,
   "metadata": {},
   "outputs": [],
   "source": [
    "distances[:, :5]"
   ]
  },
  {
   "cell_type": "code",
   "execution_count": null,
   "metadata": {},
   "outputs": [],
   "source": [
    "import joblib\n",
    "joblib.dump(pipe, '20200615_bond_embedding_nbrs.p.z', compress=True)  "
   ]
  },
  {
   "cell_type": "code",
   "execution_count": null,
   "metadata": {},
   "outputs": [],
   "source": [
    "bde.to_csv('20200615_bonds_for_neighbors.csv.gz', compression='gzip', index=False)"
   ]
  },
  {
   "cell_type": "code",
   "execution_count": null,
   "metadata": {},
   "outputs": [],
   "source": [
    "ds = tf.data.Dataset.from_generator(\n",
    "    lambda: (preprocessor.construct_feature_matrices(smiles, train=False) for smiles in ('Oc1cccc(O)c1',)),\n",
    "    output_types=preprocessor.output_types,\n",
    "    output_shapes=preprocessor.output_shapes)\\\n",
    "    .batch(1)\n",
    "\n",
    "distances, indices = pipe_kneighbors(pipe, embedding_model.predict(ds)[:, 8, :])"
   ]
  },
  {
   "cell_type": "code",
   "execution_count": null,
   "metadata": {},
   "outputs": [],
   "source": [
    "distances"
   ]
  },
  {
   "cell_type": "code",
   "execution_count": null,
   "metadata": {},
   "outputs": [],
   "source": [
    "indices"
   ]
  },
  {
   "cell_type": "code",
   "execution_count": null,
   "metadata": {},
   "outputs": [],
   "source": [
    "bde.reindex(indices.flatten())"
   ]
  },
  {
   "cell_type": "code",
   "execution_count": null,
   "metadata": {},
   "outputs": [],
   "source": [
    "pipe_kneighbors(pipe, np.atleast_2d(embed_df.loc['CCc1cc(O)cc(O)c1', 16].values))"
   ]
  },
  {
   "cell_type": "code",
   "execution_count": null,
   "metadata": {},
   "outputs": [],
   "source": []
  },
  {
   "cell_type": "code",
   "execution_count": null,
   "metadata": {},
   "outputs": [],
   "source": []
  },
  {
   "cell_type": "code",
   "execution_count": null,
   "metadata": {},
   "outputs": [],
   "source": [
    "embed_df.iloc[105390]"
   ]
  },
  {
   "cell_type": "code",
   "execution_count": null,
   "metadata": {},
   "outputs": [],
   "source": [
    "from rdkit import Chem\n",
    "from rdkit.Chem import Draw\n",
    "from rdkit.Chem.Draw import rdMolDraw2D\n",
    "from rdkit.Chem import rdDepictor\n",
    "rdDepictor.SetPreferCoordGen(True)\n",
    "from IPython.display import SVG"
   ]
  },
  {
   "cell_type": "code",
   "execution_count": null,
   "metadata": {},
   "outputs": [],
   "source": [
    "diclofenac = Chem.MolFromSmiles('CCC(CC)COC(=O)[C@H](C)NP(=O)(OC[C@H]1O[C@@](C#N)(c2ccc3c(N)ncnn23)[C@H](O)[C@@H]1O)Oc1ccccc1')\n",
    "d2d = rdMolDraw2D.MolDraw2DSVG(500, 500)\n",
    "\n",
    "opts = d2d.drawOptions()\n",
    "#opts.fixedBondLength=50\n",
    "#opts.bondLineWidth=1\n",
    "\n",
    "d2d.DrawMolecule(diclofenac)\n",
    "d2d.FinishDrawing()\n",
    "SVG(d2d.GetDrawingText())"
   ]
  },
  {
   "cell_type": "code",
   "execution_count": null,
   "metadata": {},
   "outputs": [],
   "source": []
  },
  {
   "cell_type": "code",
   "execution_count": null,
   "metadata": {},
   "outputs": [],
   "source": []
  },
  {
   "cell_type": "code",
   "execution_count": null,
   "metadata": {},
   "outputs": [],
   "source": [
    "opts.highlightBondWidthMultiplier = 20"
   ]
  },
  {
   "cell_type": "code",
   "execution_count": null,
   "metadata": {},
   "outputs": [],
   "source": []
  },
  {
   "cell_type": "code",
   "execution_count": null,
   "metadata": {},
   "outputs": [],
   "source": []
  },
  {
   "cell_type": "code",
   "execution_count": null,
   "metadata": {},
   "outputs": [],
   "source": []
  }
 ],
 "metadata": {
  "kernelspec": {
   "display_name": "Python 3",
   "language": "python",
   "name": "python3"
  },
  "language_info": {
   "codemirror_mode": {
    "name": "ipython",
    "version": 3
   },
   "file_extension": ".py",
   "mimetype": "text/x-python",
   "name": "python",
   "nbconvert_exporter": "python",
   "pygments_lexer": "ipython3",
   "version": "3.7.8"
  }
 },
 "nbformat": 4,
 "nbformat_minor": 4
}
