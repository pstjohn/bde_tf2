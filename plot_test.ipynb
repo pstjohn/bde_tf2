{
 "cells": [
  {
   "cell_type": "code",
   "execution_count": 3,
   "metadata": {},
   "outputs": [],
   "source": [
    "import numpy as np\n",
    "import pandas as pd\n",
    "\n",
    "import matplotlib.pyplot as plt\n",
    "import seaborn as sns\n",
    "sns.set(context='talk', style='ticks',\n",
    "        color_codes=True, rc={'legend.frameon': False})\n",
    "\n",
    "%matplotlib inline"
   ]
  },
  {
   "cell_type": "code",
   "execution_count": 4,
   "metadata": {},
   "outputs": [],
   "source": [
    "import tensorflow as tf\n",
    "import tensorflow_addons as tfa\n",
    "\n",
    "gpus = tf.config.experimental.list_physical_devices('GPU')\n",
    "if gpus:\n",
    "    # Currently, memory growth needs to be the same across GPUs\n",
    "    for gpu in gpus:\n",
    "        tf.config.experimental.set_memory_growth(gpu, True)"
   ]
  },
  {
   "cell_type": "code",
   "execution_count": 5,
   "metadata": {},
   "outputs": [
    {
     "data": {
      "text/plain": [
       "'0.1.4'"
      ]
     },
     "execution_count": 5,
     "metadata": {},
     "output_type": "execute_result"
    }
   ],
   "source": [
    "import nfp\n",
    "nfp.__version__"
   ]
  },
  {
   "cell_type": "code",
   "execution_count": 6,
   "metadata": {},
   "outputs": [],
   "source": [
    "bde = pd.read_csv('20200614_rdf_new_elements.csv.gz', index_col=0)\n",
    "\n",
    "train = bde[bde.set == 'train'].molecule.unique()\n",
    "valid = bde[bde.set == 'valid'].molecule.unique()\n",
    "test = bde[bde.set == 'test'].molecule.unique()\n",
    "\n",
    "from preprocess_inputs import preprocessor\n",
    "preprocessor.from_json('tfrecords/preprocessor.json')"
   ]
  },
  {
   "cell_type": "code",
   "execution_count": 191,
   "metadata": {},
   "outputs": [
    {
     "data": {
      "text/plain": [
       "816311"
      ]
     },
     "execution_count": 191,
     "metadata": {},
     "output_type": "execute_result"
    }
   ],
   "source": [
    "len(bde)"
   ]
  },
  {
   "cell_type": "code",
   "execution_count": 193,
   "metadata": {},
   "outputs": [
    {
     "data": {
      "text/html": [
       "<div>\n",
       "<style scoped>\n",
       "    .dataframe tbody tr th:only-of-type {\n",
       "        vertical-align: middle;\n",
       "    }\n",
       "\n",
       "    .dataframe tbody tr th {\n",
       "        vertical-align: top;\n",
       "    }\n",
       "\n",
       "    .dataframe thead th {\n",
       "        text-align: right;\n",
       "    }\n",
       "</style>\n",
       "<table border=\"1\" class=\"dataframe\">\n",
       "  <thead>\n",
       "    <tr style=\"text-align: right;\">\n",
       "      <th></th>\n",
       "      <th>rid</th>\n",
       "      <th>molecule</th>\n",
       "      <th>bond_index</th>\n",
       "      <th>bond_type</th>\n",
       "      <th>fragment1</th>\n",
       "      <th>fragment2</th>\n",
       "      <th>bde</th>\n",
       "      <th>bdfe</th>\n",
       "      <th>set</th>\n",
       "    </tr>\n",
       "  </thead>\n",
       "  <tbody>\n",
       "    <tr>\n",
       "      <th>0</th>\n",
       "      <td>1</td>\n",
       "      <td>NCCCC(=O)O</td>\n",
       "      <td>0</td>\n",
       "      <td>C-N</td>\n",
       "      <td>[CH2]CCC(=O)O</td>\n",
       "      <td>[NH2]</td>\n",
       "      <td>87.599001</td>\n",
       "      <td>73.447418</td>\n",
       "      <td>train</td>\n",
       "    </tr>\n",
       "    <tr>\n",
       "      <th>1</th>\n",
       "      <td>2</td>\n",
       "      <td>NCCCC(=O)O</td>\n",
       "      <td>1</td>\n",
       "      <td>C-C</td>\n",
       "      <td>[CH2]CC(=O)O</td>\n",
       "      <td>[CH2]N</td>\n",
       "      <td>82.344241</td>\n",
       "      <td>67.277122</td>\n",
       "      <td>train</td>\n",
       "    </tr>\n",
       "    <tr>\n",
       "      <th>2</th>\n",
       "      <td>3</td>\n",
       "      <td>NCCCC(=O)O</td>\n",
       "      <td>2</td>\n",
       "      <td>C-C</td>\n",
       "      <td>[CH2]C(=O)O</td>\n",
       "      <td>[CH2]CN</td>\n",
       "      <td>86.313863</td>\n",
       "      <td>71.784520</td>\n",
       "      <td>train</td>\n",
       "    </tr>\n",
       "    <tr>\n",
       "      <th>3</th>\n",
       "      <td>4</td>\n",
       "      <td>NCCCC(=O)O</td>\n",
       "      <td>3</td>\n",
       "      <td>C-C</td>\n",
       "      <td>O=[C]O</td>\n",
       "      <td>[CH2]CCN</td>\n",
       "      <td>95.898435</td>\n",
       "      <td>80.873360</td>\n",
       "      <td>train</td>\n",
       "    </tr>\n",
       "    <tr>\n",
       "      <th>4</th>\n",
       "      <td>5</td>\n",
       "      <td>NCCCC(=O)O</td>\n",
       "      <td>5</td>\n",
       "      <td>C-O</td>\n",
       "      <td>NCCC[C]=O</td>\n",
       "      <td>[OH]</td>\n",
       "      <td>111.411713</td>\n",
       "      <td>98.588566</td>\n",
       "      <td>train</td>\n",
       "    </tr>\n",
       "    <tr>\n",
       "      <th>...</th>\n",
       "      <td>...</td>\n",
       "      <td>...</td>\n",
       "      <td>...</td>\n",
       "      <td>...</td>\n",
       "      <td>...</td>\n",
       "      <td>...</td>\n",
       "      <td>...</td>\n",
       "      <td>...</td>\n",
       "      <td>...</td>\n",
       "    </tr>\n",
       "    <tr>\n",
       "      <th>816303</th>\n",
       "      <td>1933966</td>\n",
       "      <td>O=[P@@H](O)CC1=CCNCC1</td>\n",
       "      <td>14</td>\n",
       "      <td>C-H</td>\n",
       "      <td>[H]</td>\n",
       "      <td>O=[P@@H](O)CC1=[C]CNCC1</td>\n",
       "      <td>109.699241</td>\n",
       "      <td>101.168256</td>\n",
       "      <td>train</td>\n",
       "    </tr>\n",
       "    <tr>\n",
       "      <th>816304</th>\n",
       "      <td>1933967</td>\n",
       "      <td>O=[P@@H](O)CC1=CCNCC1</td>\n",
       "      <td>15</td>\n",
       "      <td>C-H</td>\n",
       "      <td>[H]</td>\n",
       "      <td>O=[P@@H](O)CC1=C[CH]NCC1</td>\n",
       "      <td>73.445536</td>\n",
       "      <td>65.535157</td>\n",
       "      <td>train</td>\n",
       "    </tr>\n",
       "    <tr>\n",
       "      <th>816306</th>\n",
       "      <td>1933969</td>\n",
       "      <td>O=[P@@H](O)CC1=CCNCC1</td>\n",
       "      <td>17</td>\n",
       "      <td>H-N</td>\n",
       "      <td>[H]</td>\n",
       "      <td>O=[P@@H](O)CC1=CC[N]CC1</td>\n",
       "      <td>93.934332</td>\n",
       "      <td>85.235175</td>\n",
       "      <td>train</td>\n",
       "    </tr>\n",
       "    <tr>\n",
       "      <th>816307</th>\n",
       "      <td>1933970</td>\n",
       "      <td>O=[P@@H](O)CC1=CCNCC1</td>\n",
       "      <td>18</td>\n",
       "      <td>C-H</td>\n",
       "      <td>[H]</td>\n",
       "      <td>O=[P@@H](O)CC1=CCN[CH]C1</td>\n",
       "      <td>90.750979</td>\n",
       "      <td>82.135908</td>\n",
       "      <td>train</td>\n",
       "    </tr>\n",
       "    <tr>\n",
       "      <th>816309</th>\n",
       "      <td>1933972</td>\n",
       "      <td>O=[P@@H](O)CC1=CCNCC1</td>\n",
       "      <td>20</td>\n",
       "      <td>C-H</td>\n",
       "      <td>[H]</td>\n",
       "      <td>O=[P@@H](O)CC1=CCNC[CH]1</td>\n",
       "      <td>85.646821</td>\n",
       "      <td>76.712348</td>\n",
       "      <td>train</td>\n",
       "    </tr>\n",
       "  </tbody>\n",
       "</table>\n",
       "<p>520030 rows × 9 columns</p>\n",
       "</div>"
      ],
      "text/plain": [
       "            rid               molecule  bond_index bond_type      fragment1  \\\n",
       "0             1             NCCCC(=O)O           0       C-N  [CH2]CCC(=O)O   \n",
       "1             2             NCCCC(=O)O           1       C-C   [CH2]CC(=O)O   \n",
       "2             3             NCCCC(=O)O           2       C-C    [CH2]C(=O)O   \n",
       "3             4             NCCCC(=O)O           3       C-C         O=[C]O   \n",
       "4             5             NCCCC(=O)O           5       C-O      NCCC[C]=O   \n",
       "...         ...                    ...         ...       ...            ...   \n",
       "816303  1933966  O=[P@@H](O)CC1=CCNCC1          14       C-H            [H]   \n",
       "816304  1933967  O=[P@@H](O)CC1=CCNCC1          15       C-H            [H]   \n",
       "816306  1933969  O=[P@@H](O)CC1=CCNCC1          17       H-N            [H]   \n",
       "816307  1933970  O=[P@@H](O)CC1=CCNCC1          18       C-H            [H]   \n",
       "816309  1933972  O=[P@@H](O)CC1=CCNCC1          20       C-H            [H]   \n",
       "\n",
       "                       fragment2         bde        bdfe    set  \n",
       "0                          [NH2]   87.599001   73.447418  train  \n",
       "1                         [CH2]N   82.344241   67.277122  train  \n",
       "2                        [CH2]CN   86.313863   71.784520  train  \n",
       "3                       [CH2]CCN   95.898435   80.873360  train  \n",
       "4                           [OH]  111.411713   98.588566  train  \n",
       "...                          ...         ...         ...    ...  \n",
       "816303   O=[P@@H](O)CC1=[C]CNCC1  109.699241  101.168256  train  \n",
       "816304  O=[P@@H](O)CC1=C[CH]NCC1   73.445536   65.535157  train  \n",
       "816306   O=[P@@H](O)CC1=CC[N]CC1   93.934332   85.235175  train  \n",
       "816307  O=[P@@H](O)CC1=CCN[CH]C1   90.750979   82.135908  train  \n",
       "816309  O=[P@@H](O)CC1=CCNC[CH]1   85.646821   76.712348  train  \n",
       "\n",
       "[520030 rows x 9 columns]"
      ]
     },
     "execution_count": 193,
     "metadata": {},
     "output_type": "execute_result"
    }
   ],
   "source": []
  },
  {
   "cell_type": "code",
   "execution_count": 194,
   "metadata": {},
   "outputs": [
    {
     "data": {
      "text/plain": [
       "C-H     255962\n",
       "C-C     116227\n",
       "C-N      38457\n",
       "C-O      38004\n",
       "H-N      28421\n",
       "H-O      16177\n",
       "C-S       9260\n",
       "C-F       5674\n",
       "C-Cl      4074\n",
       "N-O       1925\n",
       "N-N       1870\n",
       "N-S       1345\n",
       "H-S        761\n",
       "Br-C       638\n",
       "O-P        345\n",
       "O-O        303\n",
       "C-P        277\n",
       "O-S        209\n",
       "H-P         59\n",
       "N-P         27\n",
       "Cl-N        12\n",
       "F-N          2\n",
       "Br-N         1\n",
       "Name: bond_type, dtype: int64"
      ]
     },
     "execution_count": 194,
     "metadata": {},
     "output_type": "execute_result"
    }
   ],
   "source": [
    "bde.drop_duplicates(subset=['molecule', 'fragment1', 'fragment2']).bond_type.value_counts()"
   ]
  },
  {
   "cell_type": "code",
   "execution_count": 22,
   "metadata": {},
   "outputs": [
    {
     "data": {
      "image/png": "[encoded data removed]",
      "text/plain": [
       "<Figure size 504x216 with 2 Axes>"
      ]
     },
     "metadata": {
      "needs_background": "light"
     },
     "output_type": "display_data"
    }
   ],
   "source": [
    "log = pd.read_csv('20201010_model/log.csv').set_index('epoch')\n",
    "\n",
    "fig, axs = plt.subplots(nrows=1, ncols=2, sharex=True, sharey=True, figsize=(7,3))\n",
    "\n",
    "axs[0].set_title('BDE')\n",
    "axs[0].plot(log['bde_loss'], label='train')\n",
    "axs[0].plot(log['val_bde_loss'], label='valid')\n",
    "axs[0].legend(loc='upper right')\n",
    "\n",
    "axs[1].set_title('BDFE')\n",
    "axs[1].plot(log['bdfe_loss'])\n",
    "axs[1].plot(log['val_bdfe_loss'])\n",
    "\n",
    "axs[0].set_ylabel('MAE (kcal${}^{-1}$ mol)')\n",
    "\n",
    "plt.gca().set_yscale('log')\n",
    "plt.ylim([.3, 5.])\n",
    "sns.despine()"
   ]
  },
  {
   "cell_type": "code",
   "execution_count": 9,
   "metadata": {},
   "outputs": [],
   "source": [
    "model = tf.keras.models.load_model('20201010_model/best_model.hdf5', custom_objects=nfp.custom_objects)"
   ]
  },
  {
   "cell_type": "code",
   "execution_count": 187,
   "metadata": {},
   "outputs": [
    {
     "data": {
      "text/plain": [
       "'2.3.1'"
      ]
     },
     "execution_count": 187,
     "metadata": {},
     "output_type": "execute_result"
    }
   ],
   "source": [
    "tf.__version__"
   ]
  },
  {
   "cell_type": "code",
   "execution_count": 25,
   "metadata": {},
   "outputs": [],
   "source": [
    "import itertools"
   ]
  },
  {
   "cell_type": "code",
   "execution_count": 49,
   "metadata": {},
   "outputs": [
    {
     "name": "stdout",
     "output_type": "stream",
     "text": [
      "8/8 [==============================] - 1s 117ms/step\n"
     ]
    }
   ],
   "source": [
    "test_dataset = tf.data.Dataset.from_generator(\n",
    "    lambda: (preprocessor.construct_feature_matrices(smiles, train=False) for smiles in test),\n",
    "    output_types=preprocessor.output_types, output_shapes=preprocessor.output_shapes)\\\n",
    "    .padded_batch(batch_size=128, padded_shapes=preprocessor.padded_shapes(max_bonds=64),\n",
    "                  padding_values=preprocessor.padding_values)\n",
    "\n",
    "predicted_bdes, predicted_bdfes = model.predict(test_dataset, verbose=True)"
   ]
  },
  {
   "cell_type": "code",
   "execution_count": 89,
   "metadata": {},
   "outputs": [],
   "source": [
    "pred_bdes = pd.DataFrame(predicted_bdes.squeeze(), index=test).reset_index().melt(id_vars='index').rename(\n",
    "    columns={'index': 'molecule', 'variable': 'bond_index', 'value': 'pred_bde'})\n",
    "pred_bdes['pred_bdfe'] = pd.DataFrame(predicted_bdfes.squeeze(), index=test).melt()['value']\n",
    "\n",
    "merged = bde.merge(pred_bdes, on=['molecule', 'bond_index'])"
   ]
  },
  {
   "cell_type": "code",
   "execution_count": 93,
   "metadata": {},
   "outputs": [
    {
     "data": {
      "text/plain": [
       "Text(0.95, 0.05, 'MAE: 0.654 kcal/mol')"
      ]
     },
     "execution_count": 93,
     "metadata": {},
     "output_type": "execute_result"
    },
    {
     "data": {
      "image/png": "[encoded data removed]",
      "text/plain": [
       "<Figure size 504x252 with 2 Axes>"
      ]
     },
     "metadata": {
      "needs_background": "light"
     },
     "output_type": "display_data"
    }
   ],
   "source": [
    "fig, axs = plt.subplots(nrows=1, ncols=2, sharex=True, sharey=True, figsize=(7,3.5))\n",
    "\n",
    "axs[0].plot(merged['bde'], merged['pred_bde'], '.', color='b', ms=1)\n",
    "axs[1].plot(merged['bdfe'], merged['pred_bdfe'], '.', color='b', ms=1)\n",
    "axs[0].set_title('BDE')\n",
    "axs[1].set_title('BDFE')\n",
    "axs[0].text(.95, .05, f\"MAE: {(merged['bde'] - merged['pred_bde']).abs().mean():.3f} kcal/mol\", ha='right', va='bottom', transform=axs[0].transAxes, fontsize=12)\n",
    "axs[1].text(.95, .05, f\"MAE: {(merged['bdfe'] - merged['pred_bdfe']).abs().mean():.3f} kcal/mol\", ha='right', va='bottom', transform=axs[1].transAxes, fontsize=12)"
   ]
  },
  {
   "cell_type": "code",
   "execution_count": 207,
   "metadata": {},
   "outputs": [],
   "source": [
    "merged['fe_diff'] = merged['pred_bde'] - merged['pred_bdfe']"
   ]
  },
  {
   "cell_type": "code",
   "execution_count": 212,
   "metadata": {},
   "outputs": [],
   "source": [
    "high_bond_counts = merged.bond_type.value_counts()"
   ]
  },
  {
   "cell_type": "code",
   "execution_count": 214,
   "metadata": {},
   "outputs": [
    {
     "data": {
      "text/html": [
       "<div>\n",
       "<style scoped>\n",
       "    .dataframe tbody tr th:only-of-type {\n",
       "        vertical-align: middle;\n",
       "    }\n",
       "\n",
       "    .dataframe tbody tr th {\n",
       "        vertical-align: top;\n",
       "    }\n",
       "\n",
       "    .dataframe thead th {\n",
       "        text-align: right;\n",
       "    }\n",
       "</style>\n",
       "<table border=\"1\" class=\"dataframe\">\n",
       "  <thead>\n",
       "    <tr style=\"text-align: right;\">\n",
       "      <th></th>\n",
       "      <th>molecule</th>\n",
       "      <th>bond_index</th>\n",
       "      <th>bond_type</th>\n",
       "      <th>fragment1</th>\n",
       "      <th>fragment2</th>\n",
       "      <th>bde</th>\n",
       "      <th>bdfe</th>\n",
       "      <th>set</th>\n",
       "      <th>pred_bde</th>\n",
       "      <th>pred_bdfe</th>\n",
       "      <th>bde_err</th>\n",
       "      <th>bdfe_err</th>\n",
       "      <th>fe_diff</th>\n",
       "    </tr>\n",
       "  </thead>\n",
       "  <tbody>\n",
       "    <tr>\n",
       "      <th>0</th>\n",
       "      <td>C#CCc1ccccc1</td>\n",
       "      <td>2</td>\n",
       "      <td>C-C</td>\n",
       "      <td>C#C[CH2]</td>\n",
       "      <td>[c]1ccccc1</td>\n",
       "      <td>90.338078</td>\n",
       "      <td>77.573918</td>\n",
       "      <td>test</td>\n",
       "      <td>90.950226</td>\n",
       "      <td>78.054932</td>\n",
       "      <td>0.612148</td>\n",
       "      <td>0.481014</td>\n",
       "      <td>12.895294</td>\n",
       "    </tr>\n",
       "    <tr>\n",
       "      <th>1</th>\n",
       "      <td>CC/C=N\\NCCCC</td>\n",
       "      <td>7</td>\n",
       "      <td>C-C</td>\n",
       "      <td>[CH2]CCN/N=C\\CC</td>\n",
       "      <td>[CH3]</td>\n",
       "      <td>87.684343</td>\n",
       "      <td>74.718752</td>\n",
       "      <td>test</td>\n",
       "      <td>88.848526</td>\n",
       "      <td>75.405220</td>\n",
       "      <td>1.164183</td>\n",
       "      <td>0.686468</td>\n",
       "      <td>13.443306</td>\n",
       "    </tr>\n",
       "    <tr>\n",
       "      <th>2</th>\n",
       "      <td>CC(C)(C)NC(C)(C)C</td>\n",
       "      <td>17</td>\n",
       "      <td>H-N</td>\n",
       "      <td>[H]</td>\n",
       "      <td>CC(C)(C)[N]C(C)(C)C</td>\n",
       "      <td>95.639902</td>\n",
       "      <td>86.477643</td>\n",
       "      <td>test</td>\n",
       "      <td>92.455986</td>\n",
       "      <td>83.978569</td>\n",
       "      <td>3.183916</td>\n",
       "      <td>2.499074</td>\n",
       "      <td>8.477417</td>\n",
       "    </tr>\n",
       "    <tr>\n",
       "      <th>3</th>\n",
       "      <td>CC1(C)OC[C@](C)(O)OO1</td>\n",
       "      <td>16</td>\n",
       "      <td>C-H</td>\n",
       "      <td>[H]</td>\n",
       "      <td>CC1(C)O[CH][C@](C)(O)OO1</td>\n",
       "      <td>95.228256</td>\n",
       "      <td>86.392302</td>\n",
       "      <td>test</td>\n",
       "      <td>96.098557</td>\n",
       "      <td>87.066963</td>\n",
       "      <td>0.870301</td>\n",
       "      <td>0.674662</td>\n",
       "      <td>9.031593</td>\n",
       "    </tr>\n",
       "    <tr>\n",
       "      <th>4</th>\n",
       "      <td>CC1(C)OC[C@](C)(O)OO1</td>\n",
       "      <td>17</td>\n",
       "      <td>C-H</td>\n",
       "      <td>[H]</td>\n",
       "      <td>CC1(C)O[CH][C@](C)(O)OO1</td>\n",
       "      <td>95.228256</td>\n",
       "      <td>86.392302</td>\n",
       "      <td>test</td>\n",
       "      <td>96.098557</td>\n",
       "      <td>87.066963</td>\n",
       "      <td>0.870301</td>\n",
       "      <td>0.674662</td>\n",
       "      <td>9.031593</td>\n",
       "    </tr>\n",
       "    <tr>\n",
       "      <th>...</th>\n",
       "      <td>...</td>\n",
       "      <td>...</td>\n",
       "      <td>...</td>\n",
       "      <td>...</td>\n",
       "      <td>...</td>\n",
       "      <td>...</td>\n",
       "      <td>...</td>\n",
       "      <td>...</td>\n",
       "      <td>...</td>\n",
       "      <td>...</td>\n",
       "      <td>...</td>\n",
       "      <td>...</td>\n",
       "      <td>...</td>\n",
       "    </tr>\n",
       "    <tr>\n",
       "      <th>13215</th>\n",
       "      <td>CC(C)(C)CCNCCO</td>\n",
       "      <td>4</td>\n",
       "      <td>C-C</td>\n",
       "      <td>[CH2]NCCO</td>\n",
       "      <td>[CH2]C(C)(C)C</td>\n",
       "      <td>81.052200</td>\n",
       "      <td>66.523484</td>\n",
       "      <td>test</td>\n",
       "      <td>80.617950</td>\n",
       "      <td>66.521744</td>\n",
       "      <td>0.434250</td>\n",
       "      <td>0.001740</td>\n",
       "      <td>14.096207</td>\n",
       "    </tr>\n",
       "    <tr>\n",
       "      <th>13216</th>\n",
       "      <td>CNS(=O)(=O)N[C@H](C)CN</td>\n",
       "      <td>5</td>\n",
       "      <td>C-N</td>\n",
       "      <td>C[CH]CN</td>\n",
       "      <td>CNS([NH])(=O)=O</td>\n",
       "      <td>94.612042</td>\n",
       "      <td>78.992715</td>\n",
       "      <td>test</td>\n",
       "      <td>93.999016</td>\n",
       "      <td>78.688499</td>\n",
       "      <td>0.613026</td>\n",
       "      <td>0.304216</td>\n",
       "      <td>15.310516</td>\n",
       "    </tr>\n",
       "    <tr>\n",
       "      <th>13218</th>\n",
       "      <td>CC(C)(C)CC(=O)CO</td>\n",
       "      <td>4</td>\n",
       "      <td>C-C</td>\n",
       "      <td>O=[C]CO</td>\n",
       "      <td>[CH2]C(C)(C)C</td>\n",
       "      <td>87.241949</td>\n",
       "      <td>71.532261</td>\n",
       "      <td>test</td>\n",
       "      <td>86.765274</td>\n",
       "      <td>72.054039</td>\n",
       "      <td>0.476675</td>\n",
       "      <td>0.521778</td>\n",
       "      <td>14.711235</td>\n",
       "    </tr>\n",
       "    <tr>\n",
       "      <th>13219</th>\n",
       "      <td>C=C(Cl)CS[C@@H]1CCOC1</td>\n",
       "      <td>2</td>\n",
       "      <td>C-C</td>\n",
       "      <td>C=[C]Cl</td>\n",
       "      <td>[CH2]S[C@@H]1CCOC1</td>\n",
       "      <td>91.402961</td>\n",
       "      <td>78.354539</td>\n",
       "      <td>test</td>\n",
       "      <td>91.024506</td>\n",
       "      <td>77.384636</td>\n",
       "      <td>0.378455</td>\n",
       "      <td>0.969903</td>\n",
       "      <td>13.639870</td>\n",
       "    </tr>\n",
       "    <tr>\n",
       "      <th>13220</th>\n",
       "      <td>C[C@H](CC(C)(C)C)C(=O)O</td>\n",
       "      <td>1</td>\n",
       "      <td>C-C</td>\n",
       "      <td>C[CH]C(=O)O</td>\n",
       "      <td>[CH2]C(C)(C)C</td>\n",
       "      <td>79.703683</td>\n",
       "      <td>63.958227</td>\n",
       "      <td>test</td>\n",
       "      <td>78.313644</td>\n",
       "      <td>63.417358</td>\n",
       "      <td>1.390039</td>\n",
       "      <td>0.540869</td>\n",
       "      <td>14.896286</td>\n",
       "    </tr>\n",
       "  </tbody>\n",
       "</table>\n",
       "<p>12990 rows × 13 columns</p>\n",
       "</div>"
      ],
      "text/plain": [
       "                      molecule bond_index bond_type        fragment1  \\\n",
       "0                 C#CCc1ccccc1          2       C-C         C#C[CH2]   \n",
       "1                 CC/C=N\\NCCCC          7       C-C  [CH2]CCN/N=C\\CC   \n",
       "2            CC(C)(C)NC(C)(C)C         17       H-N              [H]   \n",
       "3        CC1(C)OC[C@](C)(O)OO1         16       C-H              [H]   \n",
       "4        CC1(C)OC[C@](C)(O)OO1         17       C-H              [H]   \n",
       "...                        ...        ...       ...              ...   \n",
       "13215           CC(C)(C)CCNCCO          4       C-C        [CH2]NCCO   \n",
       "13216   CNS(=O)(=O)N[C@H](C)CN          5       C-N          C[CH]CN   \n",
       "13218         CC(C)(C)CC(=O)CO          4       C-C          O=[C]CO   \n",
       "13219    C=C(Cl)CS[C@@H]1CCOC1          2       C-C          C=[C]Cl   \n",
       "13220  C[C@H](CC(C)(C)C)C(=O)O          1       C-C      C[CH]C(=O)O   \n",
       "\n",
       "                      fragment2        bde       bdfe   set   pred_bde  \\\n",
       "0                    [c]1ccccc1  90.338078  77.573918  test  90.950226   \n",
       "1                         [CH3]  87.684343  74.718752  test  88.848526   \n",
       "2           CC(C)(C)[N]C(C)(C)C  95.639902  86.477643  test  92.455986   \n",
       "3      CC1(C)O[CH][C@](C)(O)OO1  95.228256  86.392302  test  96.098557   \n",
       "4      CC1(C)O[CH][C@](C)(O)OO1  95.228256  86.392302  test  96.098557   \n",
       "...                         ...        ...        ...   ...        ...   \n",
       "13215             [CH2]C(C)(C)C  81.052200  66.523484  test  80.617950   \n",
       "13216           CNS([NH])(=O)=O  94.612042  78.992715  test  93.999016   \n",
       "13218             [CH2]C(C)(C)C  87.241949  71.532261  test  86.765274   \n",
       "13219        [CH2]S[C@@H]1CCOC1  91.402961  78.354539  test  91.024506   \n",
       "13220             [CH2]C(C)(C)C  79.703683  63.958227  test  78.313644   \n",
       "\n",
       "       pred_bdfe   bde_err  bdfe_err    fe_diff  \n",
       "0      78.054932  0.612148  0.481014  12.895294  \n",
       "1      75.405220  1.164183  0.686468  13.443306  \n",
       "2      83.978569  3.183916  2.499074   8.477417  \n",
       "3      87.066963  0.870301  0.674662   9.031593  \n",
       "4      87.066963  0.870301  0.674662   9.031593  \n",
       "...          ...       ...       ...        ...  \n",
       "13215  66.521744  0.434250  0.001740  14.096207  \n",
       "13216  78.688499  0.613026  0.304216  15.310516  \n",
       "13218  72.054039  0.476675  0.521778  14.711235  \n",
       "13219  77.384636  0.378455  0.969903  13.639870  \n",
       "13220  63.417358  1.390039  0.540869  14.896286  \n",
       "\n",
       "[12990 rows x 13 columns]"
      ]
     },
     "execution_count": 214,
     "metadata": {},
     "output_type": "execute_result"
    }
   ],
   "source": []
  },
  {
   "cell_type": "code",
   "execution_count": 215,
   "metadata": {},
   "outputs": [
    {
     "data": {
      "image/png": "[encoded data removed]",
      "text/plain": [
       "<Figure size 432x288 with 1 Axes>"
      ]
     },
     "metadata": {
      "needs_background": "light"
     },
     "output_type": "display_data"
    }
   ],
   "source": [
    "for name, df in merged[merged.bond_type.isin(high_bond_counts[high_bond_counts > 100].index)].groupby('bond_type'):\n",
    "    sns.kdeplot(df['fe_diff'], label=name)"
   ]
  },
  {
   "cell_type": "code",
   "execution_count": 94,
   "metadata": {},
   "outputs": [
    {
     "data": {
      "text/plain": [
       "Text(0.5, 0, 'Predicted BDE - BDFE')"
      ]
     },
     "execution_count": 94,
     "metadata": {},
     "output_type": "execute_result"
    },
    {
     "data": {
      "image/png": "[encoded data removed]",
      "text/plain": [
       "<Figure size 432x288 with 1 Axes>"
      ]
     },
     "metadata": {
      "needs_background": "light"
     },
     "output_type": "display_data"
    }
   ],
   "source": [
    "plt.hist(merged['pred_bde'] - merged['pred_bdfe'], bins=20)\n",
    "plt.xlabel('Predicted BDE - BDFE')"
   ]
  },
  {
   "cell_type": "code",
   "execution_count": 102,
   "metadata": {},
   "outputs": [],
   "source": [
    "merged['bde_err'] = (merged['bde'] - merged['pred_bde']).abs()\n",
    "merged['bdfe_err'] = (merged['bdfe'] - merged['pred_bdfe']).abs()"
   ]
  },
  {
   "cell_type": "code",
   "execution_count": 150,
   "metadata": {},
   "outputs": [
    {
     "data": {
      "text/plain": [
       "Text(0, 0.5, 'BDE MAE')"
      ]
     },
     "execution_count": 150,
     "metadata": {},
     "output_type": "execute_result"
    },
    {
     "data": {
      "image/png": "[encoded data removed]",
      "text/plain": [
       "<Figure size 432x288 with 1 Axes>"
      ]
     },
     "metadata": {
      "needs_background": "light"
     },
     "output_type": "display_data"
    }
   ],
   "source": [
    "sns.barplot(y='bde_err', x='bond_type', data=merged, errwidth=0,\n",
    "            order=merged.bond_type.value_counts().index)\n",
    "_ = plt.setp(plt.gca().get_xticklabels(), rotation=90)\n",
    "plt.gca().set_ylabel('BDE MAE')"
   ]
  },
  {
   "cell_type": "code",
   "execution_count": 149,
   "metadata": {},
   "outputs": [
    {
     "data": {
      "text/plain": [
       "Text(0, 0.5, 'BDFE MAE')"
      ]
     },
     "execution_count": 149,
     "metadata": {},
     "output_type": "execute_result"
    },
    {
     "data": {
      "image/png": "[encoded data removed]",
      "text/plain": [
       "<Figure size 432x288 with 1 Axes>"
      ]
     },
     "metadata": {
      "needs_background": "light"
     },
     "output_type": "display_data"
    }
   ],
   "source": [
    "sns.barplot(y='bdfe_err', x='bond_type', data=merged, errwidth=0,\n",
    "            order=merged.bond_type.value_counts().index)\n",
    "_ = plt.setp(plt.gca().get_xticklabels(), rotation=90)\n",
    "plt.gca().set_ylabel('BDFE MAE')"
   ]
  },
  {
   "cell_type": "code",
   "execution_count": 120,
   "metadata": {},
   "outputs": [
    {
     "name": "stderr",
     "output_type": "stream",
     "text": [
      "/projects/rlmolecule/pstjohn/envs/tf2_gpu/lib/python3.7/site-packages/tqdm/std.py:668: FutureWarning: The Panel class is removed from pandas. Accessing it from the top-level namespace will also be removed in the next version\n",
      "  from pandas import Panel\n",
      "100%|██████████| 1000/1000 [00:03<00:00, 253.61it/s]\n"
     ]
    }
   ],
   "source": [
    "from tqdm import tqdm\n",
    "tqdm.pandas()\n",
    "\n",
    "from rdkit import Chem\n",
    "from collections import Counter\n",
    "def get_elements(smiles):\n",
    "    mol = Chem.MolFromSmiles(smiles)\n",
    "    elems = Counter((atom.GetSymbol() for atom in Chem.AddHs(mol).GetAtoms()))\n",
    "    return pd.Series(elems)\n",
    "    \n",
    "elems = pd.Series(test).progress_apply(get_elements).fillna(0).astype(int)\n",
    "elems.index = test"
   ]
  },
  {
   "cell_type": "code",
   "execution_count": 196,
   "metadata": {},
   "outputs": [
    {
     "name": "stderr",
     "output_type": "stream",
     "text": [
      "100%|██████████| 63331/63331 [00:48<00:00, 1303.96it/s]\n"
     ]
    }
   ],
   "source": [
    "elems_all = pd.Series(bde.molecule.unique()).progress_apply(get_elements).fillna(0).astype(int)"
   ]
  },
  {
   "cell_type": "code",
   "execution_count": 201,
   "metadata": {},
   "outputs": [
    {
     "data": {
      "text/plain": [
       "Text(0.5, 0, 'Number of Heavy Atoms')"
      ]
     },
     "execution_count": 201,
     "metadata": {},
     "output_type": "execute_result"
    },
    {
     "data": {
      "image/png": "[encoded data removed]",
      "text/plain": [
       "<Figure size 432x288 with 1 Axes>"
      ]
     },
     "metadata": {
      "needs_background": "light"
     },
     "output_type": "display_data"
    }
   ],
   "source": [
    "elems_all.drop('H', 1).sum(1).plot.hist()\n",
    "plt.xlabel('Number of Heavy Atoms')"
   ]
  },
  {
   "cell_type": "code",
   "execution_count": 205,
   "metadata": {},
   "outputs": [
    {
     "data": {
      "text/plain": [
       "N     68824\n",
       "O     77567\n",
       "F      8747\n",
       "S     13033\n",
       "Cl     4703\n",
       "Br      697\n",
       "P       385\n",
       "dtype: int64"
      ]
     },
     "execution_count": 205,
     "metadata": {},
     "output_type": "execute_result"
    }
   ],
   "source": [
    "elems_all.drop('H', 1).sum(0).drop('C')"
   ]
  },
  {
   "cell_type": "code",
   "execution_count": 132,
   "metadata": {},
   "outputs": [],
   "source": [
    "melted_elems = (elems.drop(['C', 'H'], 1) > 0).reset_index().melt(id_vars='index')"
   ]
  },
  {
   "cell_type": "code",
   "execution_count": 139,
   "metadata": {},
   "outputs": [],
   "source": [
    "bde_by_elem = merged.merge(melted_elems[melted_elems.value].drop('value', 1), left_on='molecule', right_on='index')"
   ]
  },
  {
   "cell_type": "code",
   "execution_count": 153,
   "metadata": {},
   "outputs": [
    {
     "data": {
      "text/plain": [
       "Text(0, 0.5, 'BDE MAE')"
      ]
     },
     "execution_count": 153,
     "metadata": {},
     "output_type": "execute_result"
    },
    {
     "data": {
      "image/png": "[encoded data removed]",
      "text/plain": [
       "<Figure size 432x288 with 1 Axes>"
      ]
     },
     "metadata": {
      "needs_background": "light"
     },
     "output_type": "display_data"
    }
   ],
   "source": [
    "sns.barplot(y='bde_err', x='variable', data=bde_by_elem, errwidth=0)\n",
    "_ = plt.setp(plt.gca().get_xticklabels(), rotation=90)\n",
    "plt.gca().set_ylabel('BDE MAE')\n",
    "# plt.ylim([0, 2])"
   ]
  },
  {
   "cell_type": "code",
   "execution_count": 119,
   "metadata": {},
   "outputs": [
    {
     "data": {
      "text/plain": [
       "Index(['N', 'O', 'S', 'F', 'Cl', 'P', 'Br'], dtype='object')"
      ]
     },
     "execution_count": 119,
     "metadata": {},
     "output_type": "execute_result"
    }
   ],
   "source": [
    "elems.columns[2:]"
   ]
  },
  {
   "cell_type": "code",
   "execution_count": 154,
   "metadata": {},
   "outputs": [],
   "source": [
    "all_mols = bde.molecule.unique()\n",
    "\n",
    "bde_dataset = tf.data.Dataset.from_generator(\n",
    "    lambda: (preprocessor.construct_feature_matrices(smiles, train=False) for smiles in all_mols),\n",
    "    output_types=preprocessor.output_types,\n",
    "    output_shapes=preprocessor.output_shapes)\\\n",
    "    .padded_batch(batch_size=128, padded_shapes=preprocessor.padded_shapes(max_bonds=64),  # explicit padding required for consistent output shape\n",
    "                  padding_values=preprocessor.padding_values)"
   ]
  },
  {
   "cell_type": "code",
   "execution_count": 165,
   "metadata": {},
   "outputs": [
    {
     "data": {
      "text/plain": [
       "<tf.Tensor 'reduce/Reshape:0' shape=(None, None, 128) dtype=float32>"
      ]
     },
     "execution_count": 165,
     "metadata": {},
     "output_type": "execute_result"
    }
   ],
   "source": [
    "model.layers[17].output"
   ]
  },
  {
   "cell_type": "code",
   "execution_count": 167,
   "metadata": {},
   "outputs": [
    {
     "name": "stdout",
     "output_type": "stream",
     "text": [
      "495/495 [==============================] - 67s 135ms/step\n"
     ]
    }
   ],
   "source": [
    "embedding_model = tf.keras.Model(model.inputs, [model.layers[17].output])\n",
    "embeddings = embedding_model.predict(bde_dataset, verbose=True)"
   ]
  },
  {
   "cell_type": "code",
   "execution_count": 168,
   "metadata": {},
   "outputs": [
    {
     "data": {
      "text/plain": [
       "(63331, 64, 128)"
      ]
     },
     "execution_count": 168,
     "metadata": {},
     "output_type": "execute_result"
    }
   ],
   "source": [
    "embeddings.shape"
   ]
  },
  {
   "cell_type": "code",
   "execution_count": 172,
   "metadata": {},
   "outputs": [],
   "source": [
    "bond_indices = np.concatenate([np.arange(32) for _ in all_mols])\n",
    "mols = np.concatenate([np.array([mol] * 32) for mol in all_mols])\n",
    "\n",
    "index_df = pd.DataFrame(mols, columns=['molecule'])\n",
    "index_df['bond_index'] = bond_indices\n",
    "\n",
    "embed_df = pd.DataFrame(embeddings[:, :32, :].reshape((-1, 128)))\n",
    "embed_df = embed_df.join(index_df).set_index(['molecule', 'bond_index'])"
   ]
  },
  {
   "cell_type": "code",
   "execution_count": 173,
   "metadata": {},
   "outputs": [],
   "source": [
    "bde = bde.sort_values('rid').reset_index()\n",
    "embed_df = embed_df.reindex(bde[['molecule', 'bond_index']])"
   ]
  },
  {
   "cell_type": "code",
   "execution_count": 174,
   "metadata": {},
   "outputs": [
    {
     "data": {
      "text/html": [
       "<div>\n",
       "<style scoped>\n",
       "    .dataframe tbody tr th:only-of-type {\n",
       "        vertical-align: middle;\n",
       "    }\n",
       "\n",
       "    .dataframe tbody tr th {\n",
       "        vertical-align: top;\n",
       "    }\n",
       "\n",
       "    .dataframe thead th {\n",
       "        text-align: right;\n",
       "    }\n",
       "</style>\n",
       "<table border=\"1\" class=\"dataframe\">\n",
       "  <thead>\n",
       "    <tr style=\"text-align: right;\">\n",
       "      <th></th>\n",
       "      <th>rid</th>\n",
       "      <th>molecule</th>\n",
       "      <th>bond_index</th>\n",
       "      <th>bond_type</th>\n",
       "      <th>fragment1</th>\n",
       "      <th>fragment2</th>\n",
       "      <th>bde</th>\n",
       "      <th>bdfe</th>\n",
       "      <th>set</th>\n",
       "    </tr>\n",
       "  </thead>\n",
       "  <tbody>\n",
       "    <tr>\n",
       "      <th>89329</th>\n",
       "      <td>105390</td>\n",
       "      <td>CCc1cc(O)cc(O)c1</td>\n",
       "      <td>16</td>\n",
       "      <td>H-O</td>\n",
       "      <td>[H]</td>\n",
       "      <td>CCc1cc([O])cc(O)c1</td>\n",
       "      <td>88.375858</td>\n",
       "      <td>80.088974</td>\n",
       "      <td>train</td>\n",
       "    </tr>\n",
       "  </tbody>\n",
       "</table>\n",
       "</div>"
      ],
      "text/plain": [
       "          rid          molecule  bond_index bond_type fragment1  \\\n",
       "89329  105390  CCc1cc(O)cc(O)c1          16       H-O       [H]   \n",
       "\n",
       "                fragment2        bde       bdfe    set  \n",
       "89329  CCc1cc([O])cc(O)c1  88.375858  80.088974  train  "
      ]
     },
     "execution_count": 174,
     "metadata": {},
     "output_type": "execute_result"
    }
   ],
   "source": [
    "bde[(bde.molecule == 'CCc1cc(O)cc(O)c1') & (bde.bond_index == 16)]"
   ]
  },
  {
   "cell_type": "code",
   "execution_count": 175,
   "metadata": {},
   "outputs": [
    {
     "data": {
      "text/plain": [
       "0      -0.351219\n",
       "1     -14.942307\n",
       "2      14.119844\n",
       "3       8.317989\n",
       "4     -12.683212\n",
       "         ...    \n",
       "123   -14.818624\n",
       "124    -0.285941\n",
       "125     0.383272\n",
       "126     0.276456\n",
       "127    -0.100360\n",
       "Name: (CCc1cc(O)cc(O)c1, 16), Length: 128, dtype: float32"
      ]
     },
     "execution_count": 175,
     "metadata": {},
     "output_type": "execute_result"
    }
   ],
   "source": [
    "embed_df.iloc[89329]"
   ]
  },
  {
   "cell_type": "code",
   "execution_count": 176,
   "metadata": {},
   "outputs": [
    {
     "data": {
      "text/plain": [
       "Pipeline(steps=[('PCA', PCA(n_components=10)),\n",
       "                ('NearestNeighbors', NearestNeighbors(n_neighbors=10))])"
      ]
     },
     "execution_count": 176,
     "metadata": {},
     "output_type": "execute_result"
    }
   ],
   "source": [
    "from sklearn.neighbors import NearestNeighbors\n",
    "from sklearn.decomposition import PCA\n",
    "from sklearn.pipeline import Pipeline\n",
    "\n",
    "pipe = Pipeline(steps=(\n",
    "    ('PCA', PCA(n_components=10)),\n",
    "    ('NearestNeighbors', NearestNeighbors(n_neighbors=10))\n",
    "))\n",
    "\n",
    "pipe.fit(embed_df.values)"
   ]
  },
  {
   "cell_type": "code",
   "execution_count": 177,
   "metadata": {},
   "outputs": [],
   "source": [
    "test_bond_embeddings = embed_df[embed_df.index.isin(test, level=0)].values"
   ]
  },
  {
   "cell_type": "code",
   "execution_count": 178,
   "metadata": {},
   "outputs": [],
   "source": [
    "def pipe_kneighbors(pipe, X):\n",
    "    Xt = pipe.steps[0][-1].transform(X)\n",
    "    return pipe.steps[-1][-1].kneighbors(Xt)\n",
    "\n",
    "distances, indices = pipe_kneighbors(pipe, test_bond_embeddings)"
   ]
  },
  {
   "cell_type": "code",
   "execution_count": 179,
   "metadata": {},
   "outputs": [
    {
     "data": {
      "text/plain": [
       "array([[   592, 695965, 119801, ..., 490650, 462366, 402101],\n",
       "       [   593, 526600, 561922, ..., 334205,  19864, 176054],\n",
       "       [   594, 170564, 338923, ..., 143900, 143899, 143896],\n",
       "       ...,\n",
       "       [816061, 816062, 667157, ..., 633923, 787665, 607673],\n",
       "       [816061, 816062, 667157, ..., 633923, 787665, 607673],\n",
       "       [816060, 816063, 252845, ..., 243174, 185745, 182581]])"
      ]
     },
     "execution_count": 179,
     "metadata": {},
     "output_type": "execute_result"
    }
   ],
   "source": [
    "indices"
   ]
  },
  {
   "cell_type": "code",
   "execution_count": 180,
   "metadata": {},
   "outputs": [
    {
     "data": {
      "text/plain": [
       "array([[1.94738355e-04, 3.66760921e-01, 3.82006129e-01, 3.82007565e-01,\n",
       "        3.86882073e-01],\n",
       "       [7.26893590e-04, 3.79274937e-01, 5.27934162e-01, 5.36068051e-01,\n",
       "        5.36069280e-01],\n",
       "       [6.24197562e-04, 4.02308841e-01, 4.72006672e-01, 5.25659578e-01,\n",
       "        5.39984422e-01],\n",
       "       ...,\n",
       "       [3.01739661e-04, 3.03836655e-04, 2.18959130e-02, 2.25974509e-02,\n",
       "        3.40245008e-02],\n",
       "       [3.02345325e-04, 3.04413791e-04, 2.18957073e-02, 2.25987702e-02,\n",
       "        3.40243357e-02],\n",
       "       [3.09884525e-04, 3.10153918e-04, 9.98794899e-02, 1.05087930e-01,\n",
       "        1.07747296e-01]])"
      ]
     },
     "execution_count": 180,
     "metadata": {},
     "output_type": "execute_result"
    }
   ],
   "source": [
    "distances[:, :5]"
   ]
  },
  {
   "cell_type": "code",
   "execution_count": 181,
   "metadata": {},
   "outputs": [
    {
     "data": {
      "text/plain": [
       "['20201012_bond_embedding_nbrs.p.z']"
      ]
     },
     "execution_count": 181,
     "metadata": {},
     "output_type": "execute_result"
    }
   ],
   "source": [
    "import joblib\n",
    "joblib.dump(pipe, '20201012_bond_embedding_nbrs.p.z', compress=True)  "
   ]
  },
  {
   "cell_type": "code",
   "execution_count": 188,
   "metadata": {},
   "outputs": [
    {
     "data": {
      "text/html": [
       "<div>\n",
       "<style scoped>\n",
       "    .dataframe tbody tr th:only-of-type {\n",
       "        vertical-align: middle;\n",
       "    }\n",
       "\n",
       "    .dataframe tbody tr th {\n",
       "        vertical-align: top;\n",
       "    }\n",
       "\n",
       "    .dataframe thead th {\n",
       "        text-align: right;\n",
       "    }\n",
       "</style>\n",
       "<table border=\"1\" class=\"dataframe\">\n",
       "  <thead>\n",
       "    <tr style=\"text-align: right;\">\n",
       "      <th></th>\n",
       "      <th>rid</th>\n",
       "      <th>molecule</th>\n",
       "      <th>bond_index</th>\n",
       "      <th>bond_type</th>\n",
       "      <th>fragment1</th>\n",
       "      <th>fragment2</th>\n",
       "      <th>bde</th>\n",
       "      <th>bdfe</th>\n",
       "      <th>set</th>\n",
       "    </tr>\n",
       "  </thead>\n",
       "  <tbody>\n",
       "    <tr>\n",
       "      <th>0</th>\n",
       "      <td>1</td>\n",
       "      <td>NCCCC(=O)O</td>\n",
       "      <td>0</td>\n",
       "      <td>C-N</td>\n",
       "      <td>[CH2]CCC(=O)O</td>\n",
       "      <td>[NH2]</td>\n",
       "      <td>87.599001</td>\n",
       "      <td>73.447418</td>\n",
       "      <td>train</td>\n",
       "    </tr>\n",
       "    <tr>\n",
       "      <th>1</th>\n",
       "      <td>2</td>\n",
       "      <td>NCCCC(=O)O</td>\n",
       "      <td>1</td>\n",
       "      <td>C-C</td>\n",
       "      <td>[CH2]CC(=O)O</td>\n",
       "      <td>[CH2]N</td>\n",
       "      <td>82.344241</td>\n",
       "      <td>67.277122</td>\n",
       "      <td>train</td>\n",
       "    </tr>\n",
       "    <tr>\n",
       "      <th>2</th>\n",
       "      <td>3</td>\n",
       "      <td>NCCCC(=O)O</td>\n",
       "      <td>2</td>\n",
       "      <td>C-C</td>\n",
       "      <td>[CH2]C(=O)O</td>\n",
       "      <td>[CH2]CN</td>\n",
       "      <td>86.313863</td>\n",
       "      <td>71.784520</td>\n",
       "      <td>train</td>\n",
       "    </tr>\n",
       "    <tr>\n",
       "      <th>3</th>\n",
       "      <td>4</td>\n",
       "      <td>NCCCC(=O)O</td>\n",
       "      <td>3</td>\n",
       "      <td>C-C</td>\n",
       "      <td>O=[C]O</td>\n",
       "      <td>[CH2]CCN</td>\n",
       "      <td>95.898435</td>\n",
       "      <td>80.873360</td>\n",
       "      <td>train</td>\n",
       "    </tr>\n",
       "    <tr>\n",
       "      <th>4</th>\n",
       "      <td>5</td>\n",
       "      <td>NCCCC(=O)O</td>\n",
       "      <td>5</td>\n",
       "      <td>C-O</td>\n",
       "      <td>NCCC[C]=O</td>\n",
       "      <td>[OH]</td>\n",
       "      <td>111.411713</td>\n",
       "      <td>98.588566</td>\n",
       "      <td>train</td>\n",
       "    </tr>\n",
       "    <tr>\n",
       "      <th>...</th>\n",
       "      <td>...</td>\n",
       "      <td>...</td>\n",
       "      <td>...</td>\n",
       "      <td>...</td>\n",
       "      <td>...</td>\n",
       "      <td>...</td>\n",
       "      <td>...</td>\n",
       "      <td>...</td>\n",
       "      <td>...</td>\n",
       "    </tr>\n",
       "    <tr>\n",
       "      <th>816306</th>\n",
       "      <td>1933969</td>\n",
       "      <td>O=[P@@H](O)CC1=CCNCC1</td>\n",
       "      <td>17</td>\n",
       "      <td>H-N</td>\n",
       "      <td>[H]</td>\n",
       "      <td>O=[P@@H](O)CC1=CC[N]CC1</td>\n",
       "      <td>93.934332</td>\n",
       "      <td>85.235175</td>\n",
       "      <td>train</td>\n",
       "    </tr>\n",
       "    <tr>\n",
       "      <th>816307</th>\n",
       "      <td>1933970</td>\n",
       "      <td>O=[P@@H](O)CC1=CCNCC1</td>\n",
       "      <td>18</td>\n",
       "      <td>C-H</td>\n",
       "      <td>[H]</td>\n",
       "      <td>O=[P@@H](O)CC1=CCN[CH]C1</td>\n",
       "      <td>90.750979</td>\n",
       "      <td>82.135908</td>\n",
       "      <td>train</td>\n",
       "    </tr>\n",
       "    <tr>\n",
       "      <th>816308</th>\n",
       "      <td>1933971</td>\n",
       "      <td>O=[P@@H](O)CC1=CCNCC1</td>\n",
       "      <td>19</td>\n",
       "      <td>C-H</td>\n",
       "      <td>[H]</td>\n",
       "      <td>O=[P@@H](O)CC1=CCN[CH]C1</td>\n",
       "      <td>90.750979</td>\n",
       "      <td>82.135908</td>\n",
       "      <td>train</td>\n",
       "    </tr>\n",
       "    <tr>\n",
       "      <th>816309</th>\n",
       "      <td>1933972</td>\n",
       "      <td>O=[P@@H](O)CC1=CCNCC1</td>\n",
       "      <td>20</td>\n",
       "      <td>C-H</td>\n",
       "      <td>[H]</td>\n",
       "      <td>O=[P@@H](O)CC1=CCNC[CH]1</td>\n",
       "      <td>85.646821</td>\n",
       "      <td>76.712348</td>\n",
       "      <td>train</td>\n",
       "    </tr>\n",
       "    <tr>\n",
       "      <th>816310</th>\n",
       "      <td>1933973</td>\n",
       "      <td>O=[P@@H](O)CC1=CCNCC1</td>\n",
       "      <td>21</td>\n",
       "      <td>C-H</td>\n",
       "      <td>[H]</td>\n",
       "      <td>O=[P@@H](O)CC1=CCNC[CH]1</td>\n",
       "      <td>85.646821</td>\n",
       "      <td>76.712348</td>\n",
       "      <td>train</td>\n",
       "    </tr>\n",
       "  </tbody>\n",
       "</table>\n",
       "<p>816311 rows × 9 columns</p>\n",
       "</div>"
      ],
      "text/plain": [
       "            rid               molecule  bond_index bond_type      fragment1  \\\n",
       "0             1             NCCCC(=O)O           0       C-N  [CH2]CCC(=O)O   \n",
       "1             2             NCCCC(=O)O           1       C-C   [CH2]CC(=O)O   \n",
       "2             3             NCCCC(=O)O           2       C-C    [CH2]C(=O)O   \n",
       "3             4             NCCCC(=O)O           3       C-C         O=[C]O   \n",
       "4             5             NCCCC(=O)O           5       C-O      NCCC[C]=O   \n",
       "...         ...                    ...         ...       ...            ...   \n",
       "816306  1933969  O=[P@@H](O)CC1=CCNCC1          17       H-N            [H]   \n",
       "816307  1933970  O=[P@@H](O)CC1=CCNCC1          18       C-H            [H]   \n",
       "816308  1933971  O=[P@@H](O)CC1=CCNCC1          19       C-H            [H]   \n",
       "816309  1933972  O=[P@@H](O)CC1=CCNCC1          20       C-H            [H]   \n",
       "816310  1933973  O=[P@@H](O)CC1=CCNCC1          21       C-H            [H]   \n",
       "\n",
       "                       fragment2         bde       bdfe    set  \n",
       "0                          [NH2]   87.599001  73.447418  train  \n",
       "1                         [CH2]N   82.344241  67.277122  train  \n",
       "2                        [CH2]CN   86.313863  71.784520  train  \n",
       "3                       [CH2]CCN   95.898435  80.873360  train  \n",
       "4                           [OH]  111.411713  98.588566  train  \n",
       "...                          ...         ...        ...    ...  \n",
       "816306   O=[P@@H](O)CC1=CC[N]CC1   93.934332  85.235175  train  \n",
       "816307  O=[P@@H](O)CC1=CCN[CH]C1   90.750979  82.135908  train  \n",
       "816308  O=[P@@H](O)CC1=CCN[CH]C1   90.750979  82.135908  train  \n",
       "816309  O=[P@@H](O)CC1=CCNC[CH]1   85.646821  76.712348  train  \n",
       "816310  O=[P@@H](O)CC1=CCNC[CH]1   85.646821  76.712348  train  \n",
       "\n",
       "[816311 rows x 9 columns]"
      ]
     },
     "execution_count": 188,
     "metadata": {},
     "output_type": "execute_result"
    }
   ],
   "source": [
    "bde"
   ]
  },
  {
   "cell_type": "code",
   "execution_count": 182,
   "metadata": {},
   "outputs": [],
   "source": [
    "bde.to_csv('20201012_bonds_for_neighbors.csv.gz', compression='gzip', index=False)"
   ]
  },
  {
   "cell_type": "code",
   "execution_count": 183,
   "metadata": {},
   "outputs": [],
   "source": [
    "ds = tf.data.Dataset.from_generator(\n",
    "    lambda: (preprocessor.construct_feature_matrices(smiles, train=False) for smiles in ('Oc1cccc(O)c1',)),\n",
    "    output_types=preprocessor.output_types,\n",
    "    output_shapes=preprocessor.output_shapes)\\\n",
    "    .batch(1)\n",
    "\n",
    "distances, indices = pipe_kneighbors(pipe, embedding_model.predict(ds)[:, 8, :])"
   ]
  },
  {
   "cell_type": "code",
   "execution_count": 184,
   "metadata": {},
   "outputs": [
    {
     "data": {
      "text/plain": [
       "array([[0.03230761, 0.03230825, 0.03230873, 0.03230875, 0.03231005,\n",
       "        0.03231008, 0.03231016, 0.03231081, 0.03231091, 0.04865191]])"
      ]
     },
     "execution_count": 184,
     "metadata": {},
     "output_type": "execute_result"
    }
   ],
   "source": [
    "distances"
   ]
  },
  {
   "cell_type": "code",
   "execution_count": 185,
   "metadata": {},
   "outputs": [
    {
     "data": {
      "text/plain": [
       "array([[570794, 788748, 665161, 788963, 554231, 570296, 622356, 788032,\n",
       "        618721,  79714]])"
      ]
     },
     "execution_count": 185,
     "metadata": {},
     "output_type": "execute_result"
    }
   ],
   "source": [
    "indices"
   ]
  },
  {
   "cell_type": "code",
   "execution_count": 186,
   "metadata": {},
   "outputs": [
    {
     "data": {
      "text/html": [
       "<div>\n",
       "<style scoped>\n",
       "    .dataframe tbody tr th:only-of-type {\n",
       "        vertical-align: middle;\n",
       "    }\n",
       "\n",
       "    .dataframe tbody tr th {\n",
       "        vertical-align: top;\n",
       "    }\n",
       "\n",
       "    .dataframe thead th {\n",
       "        text-align: right;\n",
       "    }\n",
       "</style>\n",
       "<table border=\"1\" class=\"dataframe\">\n",
       "  <thead>\n",
       "    <tr style=\"text-align: right;\">\n",
       "      <th></th>\n",
       "      <th>rid</th>\n",
       "      <th>molecule</th>\n",
       "      <th>bond_index</th>\n",
       "      <th>bond_type</th>\n",
       "      <th>fragment1</th>\n",
       "      <th>fragment2</th>\n",
       "      <th>bde</th>\n",
       "      <th>bdfe</th>\n",
       "      <th>set</th>\n",
       "    </tr>\n",
       "  </thead>\n",
       "  <tbody>\n",
       "    <tr>\n",
       "      <th>570794</th>\n",
       "      <td>1087881</td>\n",
       "      <td>Oc1ccc(F)c(Cl)c1</td>\n",
       "      <td>9</td>\n",
       "      <td>H-O</td>\n",
       "      <td>[H]</td>\n",
       "      <td>[O]c1ccc(F)c(Cl)c1</td>\n",
       "      <td>87.529348</td>\n",
       "      <td>79.174066</td>\n",
       "      <td>train</td>\n",
       "    </tr>\n",
       "    <tr>\n",
       "      <th>788748</th>\n",
       "      <td>1775698</td>\n",
       "      <td>O=Cc1ccc(O)cc1Cl</td>\n",
       "      <td>13</td>\n",
       "      <td>H-O</td>\n",
       "      <td>[H]</td>\n",
       "      <td>[O]c1ccc(C=O)c(Cl)c1</td>\n",
       "      <td>91.913753</td>\n",
       "      <td>83.405359</td>\n",
       "      <td>train</td>\n",
       "    </tr>\n",
       "    <tr>\n",
       "      <th>665161</th>\n",
       "      <td>1341737</td>\n",
       "      <td>COc1ccc(O)cc1Cl</td>\n",
       "      <td>15</td>\n",
       "      <td>H-O</td>\n",
       "      <td>[H]</td>\n",
       "      <td>COc1ccc([O])cc1Cl</td>\n",
       "      <td>83.867833</td>\n",
       "      <td>75.686998</td>\n",
       "      <td>train</td>\n",
       "    </tr>\n",
       "    <tr>\n",
       "      <th>788963</th>\n",
       "      <td>1776475</td>\n",
       "      <td>NCc1ccc(O)cc1Cl</td>\n",
       "      <td>16</td>\n",
       "      <td>H-O</td>\n",
       "      <td>[H]</td>\n",
       "      <td>NCc1ccc([O])cc1Cl</td>\n",
       "      <td>88.821389</td>\n",
       "      <td>80.316759</td>\n",
       "      <td>train</td>\n",
       "    </tr>\n",
       "    <tr>\n",
       "      <th>554231</th>\n",
       "      <td>1022328</td>\n",
       "      <td>Oc1ccc(Cl)c(Cl)c1</td>\n",
       "      <td>9</td>\n",
       "      <td>H-O</td>\n",
       "      <td>[H]</td>\n",
       "      <td>[O]c1ccc(Cl)c(Cl)c1</td>\n",
       "      <td>88.554070</td>\n",
       "      <td>80.183100</td>\n",
       "      <td>train</td>\n",
       "    </tr>\n",
       "    <tr>\n",
       "      <th>570296</th>\n",
       "      <td>1084778</td>\n",
       "      <td>Cc1ccc(O)cc1Cl</td>\n",
       "      <td>14</td>\n",
       "      <td>H-O</td>\n",
       "      <td>[H]</td>\n",
       "      <td>Cc1ccc([O])cc1Cl</td>\n",
       "      <td>87.898323</td>\n",
       "      <td>79.509783</td>\n",
       "      <td>train</td>\n",
       "    </tr>\n",
       "    <tr>\n",
       "      <th>622356</th>\n",
       "      <td>1240103</td>\n",
       "      <td>CSc1ccc(O)cc1Cl</td>\n",
       "      <td>15</td>\n",
       "      <td>H-O</td>\n",
       "      <td>[H]</td>\n",
       "      <td>CSc1ccc([O])cc1Cl</td>\n",
       "      <td>108.154941</td>\n",
       "      <td>99.963439</td>\n",
       "      <td>train</td>\n",
       "    </tr>\n",
       "    <tr>\n",
       "      <th>788032</th>\n",
       "      <td>1774056</td>\n",
       "      <td>OCc1ccc(O)cc1Cl</td>\n",
       "      <td>15</td>\n",
       "      <td>H-O</td>\n",
       "      <td>[H]</td>\n",
       "      <td>[O]c1ccc(CO)c(Cl)c1</td>\n",
       "      <td>88.226510</td>\n",
       "      <td>79.973512</td>\n",
       "      <td>train</td>\n",
       "    </tr>\n",
       "    <tr>\n",
       "      <th>618721</th>\n",
       "      <td>1230228</td>\n",
       "      <td>CCc1ccc(O)cc1Cl</td>\n",
       "      <td>17</td>\n",
       "      <td>H-O</td>\n",
       "      <td>[H]</td>\n",
       "      <td>CCc1ccc([O])cc1Cl</td>\n",
       "      <td>87.994332</td>\n",
       "      <td>79.614577</td>\n",
       "      <td>train</td>\n",
       "    </tr>\n",
       "    <tr>\n",
       "      <th>79714</th>\n",
       "      <td>93741</td>\n",
       "      <td>Nc1cncc(O)c1</td>\n",
       "      <td>12</td>\n",
       "      <td>H-O</td>\n",
       "      <td>[H]</td>\n",
       "      <td>Nc1cncc([O])c1</td>\n",
       "      <td>87.537506</td>\n",
       "      <td>79.088097</td>\n",
       "      <td>train</td>\n",
       "    </tr>\n",
       "  </tbody>\n",
       "</table>\n",
       "</div>"
      ],
      "text/plain": [
       "            rid           molecule  bond_index bond_type fragment1  \\\n",
       "570794  1087881   Oc1ccc(F)c(Cl)c1           9       H-O       [H]   \n",
       "788748  1775698   O=Cc1ccc(O)cc1Cl          13       H-O       [H]   \n",
       "665161  1341737    COc1ccc(O)cc1Cl          15       H-O       [H]   \n",
       "788963  1776475    NCc1ccc(O)cc1Cl          16       H-O       [H]   \n",
       "554231  1022328  Oc1ccc(Cl)c(Cl)c1           9       H-O       [H]   \n",
       "570296  1084778     Cc1ccc(O)cc1Cl          14       H-O       [H]   \n",
       "622356  1240103    CSc1ccc(O)cc1Cl          15       H-O       [H]   \n",
       "788032  1774056    OCc1ccc(O)cc1Cl          15       H-O       [H]   \n",
       "618721  1230228    CCc1ccc(O)cc1Cl          17       H-O       [H]   \n",
       "79714     93741       Nc1cncc(O)c1          12       H-O       [H]   \n",
       "\n",
       "                   fragment2         bde       bdfe    set  \n",
       "570794    [O]c1ccc(F)c(Cl)c1   87.529348  79.174066  train  \n",
       "788748  [O]c1ccc(C=O)c(Cl)c1   91.913753  83.405359  train  \n",
       "665161     COc1ccc([O])cc1Cl   83.867833  75.686998  train  \n",
       "788963     NCc1ccc([O])cc1Cl   88.821389  80.316759  train  \n",
       "554231   [O]c1ccc(Cl)c(Cl)c1   88.554070  80.183100  train  \n",
       "570296      Cc1ccc([O])cc1Cl   87.898323  79.509783  train  \n",
       "622356     CSc1ccc([O])cc1Cl  108.154941  99.963439  train  \n",
       "788032   [O]c1ccc(CO)c(Cl)c1   88.226510  79.973512  train  \n",
       "618721     CCc1ccc([O])cc1Cl   87.994332  79.614577  train  \n",
       "79714         Nc1cncc([O])c1   87.537506  79.088097  train  "
      ]
     },
     "execution_count": 186,
     "metadata": {},
     "output_type": "execute_result"
    }
   ],
   "source": [
    "bde.reindex(indices.flatten())"
   ]
  }
 ],
 "metadata": {
  "kernelspec": {
   "display_name": "Python 3",
   "language": "python",
   "name": "python3"
  },
  "language_info": {
   "codemirror_mode": {
    "name": "ipython",
    "version": 3
   },
   "file_extension": ".py",
   "mimetype": "text/x-python",
   "name": "python",
   "nbconvert_exporter": "python",
   "pygments_lexer": "ipython3",
   "version": "3.7.8"
  }
 },
 "nbformat": 4,
 "nbformat_minor": 4
}
