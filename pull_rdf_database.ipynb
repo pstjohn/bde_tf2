{
 "cells": [
  {
   "cell_type": "code",
   "execution_count": 2,
   "metadata": {},
   "outputs": [],
   "source": [
    "import matplotlib.pyplot as plt\n",
    "import seaborn as sns\n",
    "sns.set(context='talk', style='ticks',\n",
    "        color_codes=True, rc={'legend.frameon': False})\n",
    "\n",
    "%matplotlib inline"
   ]
  },
  {
   "cell_type": "code",
   "execution_count": 3,
   "metadata": {},
   "outputs": [],
   "source": [
    "import pandas as pd\n",
    "import numpy as np\n",
    "\n",
    "import psycopg2\n",
    "\n",
    "dbparams = {\n",
    "    'dbname': 'bde',\n",
    "    'port': 5432,\n",
    "    'host': 'yuma.hpc.nrel.gov',\n",
    "    'user': 'bdeops',\n",
    "    'password': 'BD30ps99!',\n",
    "    'options': f'-c search_path=bde',\n",
    "}"
   ]
  },
  {
   "cell_type": "code",
   "execution_count": 14,
   "metadata": {},
   "outputs": [],
   "source": [
    "# with psycopg2.connect(**dbparams) as conn:\n",
    "#     with conn.cursor() as cur:\n",
    "#         cur.execute(\"\"\"\n",
    "#         CREATE VIEW unique_compound AS\n",
    "#         SELECT DISTINCT ON (smiles) *\n",
    "#         FROM compound \n",
    "#         ORDER BY smiles, run DESC;\"\"\")\n",
    "        \n",
    "# with psycopg2.connect(**dbparams) as conn:\n",
    "#     with conn.cursor() as cur:\n",
    "#         cur.execute(\"\"\"\n",
    "#         CREATE VIEW reaction_bde AS\n",
    "#         SELECT rid, molecule, bond_index, fragment1, fragment2,\n",
    "#         (cpd1.enthalpy + cpd2.enthalpy - cpd_mol.enthalpy) * 627.509 AS BDE,\n",
    "#         (cpd1.freeenergy + cpd2.freeenergy - cpd_mol.freeenergy) * 627.509 AS BDFE,\n",
    "#         (cpd1.scfenergy + cpd2.scfenergy - cpd_mol.scfenergy) * 627.509 AS BDSCFE        \n",
    "#         FROM reaction\n",
    "#         LEFT JOIN unique_compound AS cpd_mol ON reaction.molecule = cpd_mol.smiles\n",
    "#         LEFT JOIN unique_compound AS cpd1 ON reaction.fragment1 = cpd1.smiles\n",
    "#         LEFT JOIN unique_compound AS cpd2 ON reaction.fragment2 = cpd2.smiles \n",
    "#         WHERE cpd1.enthalpy IS NOT NULL\n",
    "#         AND cpd2.enthalpy IS NOT NULL\n",
    "#         AND cpd_mol.enthalpy IS NOT NULL AND\n",
    "#         cpd1.freeenergy IS NOT NULL AND\n",
    "#         cpd2.freeenergy IS NOT NULL AND\n",
    "#         cpd_mol.freeenergy IS NOT NULL AND\n",
    "#         cpd1.scfenergy IS NOT NULL AND\n",
    "#         cpd2.scfenergy IS NOT NULL AND\n",
    "#         cpd_mol.scfenergy IS NOT NULL;\"\"\")"
   ]
  },
  {
   "cell_type": "code",
   "execution_count": 15,
   "metadata": {},
   "outputs": [],
   "source": [
    "with psycopg2.connect(**dbparams) as conn:\n",
    "    cdf = pd.read_sql_query(\"\"\"\n",
    "    SELECT * from unique_compound where status='finished';\n",
    "    \"\"\", conn)\n",
    "    \n",
    "    rdf = pd.read_sql_query(\"\"\"\n",
    "    SELECT * from reaction_bde;\n",
    "    \"\"\", conn)    "
   ]
  },
  {
   "cell_type": "code",
   "execution_count": 16,
   "metadata": {},
   "outputs": [
    {
     "name": "stderr",
     "output_type": "stream",
     "text": [
      "/projects/rlmolecule/pstjohn/envs/tf2_gpu/lib/python3.7/site-packages/tqdm/std.py:668: FutureWarning: The Panel class is removed from pandas. Accessing it from the top-level namespace will also be removed in the next version\n",
      "  from pandas import Panel\n",
      "  3%|▎         | 15577/501544 [00:13<03:14, 2501.77it/s]RDKit WARNING: [12:17:42] Conflicting single bond directions around double bond at index 1.\n",
      "RDKit WARNING: [12:17:42]   BondStereo set to STEREONONE and single bond directions set to NONE.\n",
      "  3%|▎         | 15840/501544 [00:13<03:11, 2537.83it/s]RDKit WARNING: [12:17:42] Conflicting single bond directions around double bond at index 1.\n",
      "RDKit WARNING: [12:17:42]   BondStereo set to STEREONONE and single bond directions set to NONE.\n",
      "RDKit WARNING: [12:17:42] Conflicting single bond directions around double bond at index 1.\n",
      "RDKit WARNING: [12:17:42]   BondStereo set to STEREONONE and single bond directions set to NONE.\n",
      "RDKit WARNING: [12:17:42] Conflicting single bond directions around double bond at index 1.\n",
      "RDKit WARNING: [12:17:42]   BondStereo set to STEREONONE and single bond directions set to NONE.\n",
      " 73%|███████▎  | 366206/501544 [02:27<00:53, 2508.38it/s]RDKit WARNING: [12:19:55] Conflicting single bond directions around double bond at index 2.\n",
      "RDKit WARNING: [12:19:55]   BondStereo set to STEREONONE and single bond directions set to NONE.\n",
      "RDKit WARNING: [12:19:56] Conflicting single bond directions around double bond at index 2.\n",
      "RDKit WARNING: [12:19:56]   BondStereo set to STEREONONE and single bond directions set to NONE.\n",
      "RDKit WARNING: [12:19:56] Conflicting single bond directions around double bond at index 2.\n",
      "RDKit WARNING: [12:19:56]   BondStereo set to STEREONONE and single bond directions set to NONE.\n",
      "RDKit WARNING: [12:19:56] Conflicting single bond directions around double bond at index 2.\n",
      "RDKit WARNING: [12:19:56]   BondStereo set to STEREONONE and single bond directions set to NONE.\n",
      "RDKit WARNING: [12:19:56] Conflicting single bond directions around double bond at index 2.\n",
      "RDKit WARNING: [12:19:56]   BondStereo set to STEREONONE and single bond directions set to NONE.\n",
      "RDKit WARNING: [12:19:56] Conflicting single bond directions around double bond at index 2.\n",
      "RDKit WARNING: [12:19:56]   BondStereo set to STEREONONE and single bond directions set to NONE.\n",
      "RDKit WARNING: [12:19:56] Conflicting single bond directions around double bond at index 2.\n",
      "RDKit WARNING: [12:19:56]   BondStereo set to STEREONONE and single bond directions set to NONE.\n",
      " 82%|████████▏ | 408926/501544 [02:44<00:36, 2531.02it/s]RDKit WARNING: [12:20:13] WARNING: not removing hydrogen atom without neighbors\n",
      " 90%|█████████ | 452821/501544 [03:01<00:19, 2533.90it/s]RDKit WARNING: [12:20:30] Conflicting single bond directions around double bond at index 1.\n",
      "RDKit WARNING: [12:20:30]   BondStereo set to STEREONONE and single bond directions set to NONE.\n",
      " 93%|█████████▎| 464693/501544 [03:06<00:14, 2580.09it/s]RDKit WARNING: [12:20:34] Conflicting single bond directions around double bond at index 2.\n",
      "RDKit WARNING: [12:20:34]   BondStereo set to STEREONONE and single bond directions set to NONE.\n",
      "RDKit WARNING: [12:20:34] Conflicting single bond directions around double bond at index 2.\n",
      "RDKit WARNING: [12:20:34]   BondStereo set to STEREONONE and single bond directions set to NONE.\n",
      "100%|██████████| 501544/501544 [04:12<00:00, 1983.85it/s]\n"
     ]
    }
   ],
   "source": [
    "from tqdm import tqdm\n",
    "tqdm.pandas()\n",
    "\n",
    "from rdkit import Chem\n",
    "from collections import Counter\n",
    "def get_elements(smiles):\n",
    "    mol = Chem.MolFromSmiles(smiles)\n",
    "    elems = Counter((atom.GetSymbol() for atom in Chem.AddHs(mol).GetAtoms()))\n",
    "    return pd.Series(elems)\n",
    "    \n",
    "\n",
    "elems = cdf.smiles.progress_apply(get_elements)"
   ]
  },
  {
   "cell_type": "code",
   "execution_count": 17,
   "metadata": {},
   "outputs": [],
   "source": [
    "le_10 = elems.drop('H', 1).sum(1) <= 10"
   ]
  },
  {
   "cell_type": "code",
   "execution_count": 18,
   "metadata": {},
   "outputs": [
    {
     "data": {
      "image/png": "[encoded data removed]",
      "text/plain": [
       "<Figure size 432x288 with 1 Axes>"
      ]
     },
     "metadata": {
      "needs_background": "light"
     },
     "output_type": "display_data"
    }
   ],
   "source": [
    "from sklearn.linear_model import LinearRegression\n",
    "\n",
    "reg = LinearRegression(fit_intercept=False)\n",
    "reg.fit(elems[le_10].fillna(0), cdf[le_10].enthalpy)\n",
    "enthalpy_pred = reg.predict(elems[le_10].fillna(0))\n",
    "\n",
    "ethalpy_err = (cdf[le_10].enthalpy - enthalpy_pred) * 627.509\n",
    "plt.hist(ethalpy_err, bins=30)\n",
    "\n",
    "q1 = ethalpy_err.quantile(.25)\n",
    "q3 = ethalpy_err.quantile(.75)\n",
    "iqr = q3 - q1\n",
    "\n",
    "enthalpy_max = q3 + 3 * iqr\n",
    "enthalpy_min = q1 - 3 * iqr\n",
    "\n",
    "cdf_small = cdf[le_10][ethalpy_err < enthalpy_max]"
   ]
  },
  {
   "cell_type": "code",
   "execution_count": 19,
   "metadata": {},
   "outputs": [
    {
     "data": {
      "text/plain": [
       "(494775, 16)"
      ]
     },
     "execution_count": 19,
     "metadata": {},
     "output_type": "execute_result"
    }
   ],
   "source": [
    "cdf_small.shape"
   ]
  },
  {
   "cell_type": "code",
   "execution_count": 20,
   "metadata": {},
   "outputs": [],
   "source": [
    "is_valid = rdf[['molecule', 'fragment1', 'fragment2']].apply(lambda x: x.isin(cdf_small.smiles), 0).all(1)\n",
    "rdfv = rdf[is_valid]"
   ]
  },
  {
   "cell_type": "code",
   "execution_count": 21,
   "metadata": {},
   "outputs": [
    {
     "data": {
      "text/plain": [
       "1181126"
      ]
     },
     "execution_count": 21,
     "metadata": {},
     "output_type": "execute_result"
    }
   ],
   "source": [
    "len(rdf)"
   ]
  },
  {
   "cell_type": "code",
   "execution_count": 22,
   "metadata": {},
   "outputs": [
    {
     "data": {
      "text/plain": [
       "1170615"
      ]
     },
     "execution_count": 22,
     "metadata": {},
     "output_type": "execute_result"
    }
   ],
   "source": [
    "len(rdfv)"
   ]
  },
  {
   "cell_type": "code",
   "execution_count": 46,
   "metadata": {},
   "outputs": [
    {
     "data": {
      "text/plain": [
       "Text(0.5, 0, 'BDE')"
      ]
     },
     "execution_count": 46,
     "metadata": {},
     "output_type": "execute_result"
    },
    {
     "data": {
      "image/png": "[encoded data removed]",
      "text/plain": [
       "<Figure size 288x288 with 1 Axes>"
      ]
     },
     "metadata": {
      "needs_background": "light"
     },
     "output_type": "display_data"
    }
   ],
   "source": [
    "plt.figure(figsize=(4,4))\n",
    "plt.plot(rdfv.bde, rdfv.bdscfe, '.', ms=1)\n",
    "plt.ylabel('BDSCFE')\n",
    "plt.xlabel('BDE')"
   ]
  },
  {
   "cell_type": "code",
   "execution_count": 47,
   "metadata": {},
   "outputs": [
    {
     "data": {
      "text/plain": [
       "<AxesSubplot:ylabel='Frequency'>"
      ]
     },
     "execution_count": 47,
     "metadata": {},
     "output_type": "execute_result"
    },
    {
     "data": {
      "image/png": "[encoded data removed]",
      "text/plain": [
       "<Figure size 432x288 with 1 Axes>"
      ]
     },
     "metadata": {
      "needs_background": "light"
     },
     "output_type": "display_data"
    }
   ],
   "source": [
    "(rdfv.bde - rdfv.bdscfe).plot.hist(bins=30, range=(-10, 0))"
   ]
  },
  {
   "cell_type": "code",
   "execution_count": 48,
   "metadata": {},
   "outputs": [],
   "source": [
    "scf_invalid = (((rdfv.bde - rdfv.bdscfe) < -9) | ((rdfv.bde - rdfv.bdscfe) > -1.9))\n",
    "rdfv = rdfv[~scf_invalid]"
   ]
  },
  {
   "cell_type": "code",
   "execution_count": 52,
   "metadata": {},
   "outputs": [],
   "source": [
    "rdfv = rdfv.drop_duplicates(subset=['molecule', 'bond_index'])"
   ]
  },
  {
   "cell_type": "code",
   "execution_count": 53,
   "metadata": {},
   "outputs": [
    {
     "data": {
      "text/plain": [
       "(810706, 8)"
      ]
     },
     "execution_count": 53,
     "metadata": {},
     "output_type": "execute_result"
    }
   ],
   "source": [
    "rdfv.shape"
   ]
  },
  {
   "cell_type": "code",
   "execution_count": 54,
   "metadata": {},
   "outputs": [],
   "source": [
    "from sklearn.model_selection import train_test_split"
   ]
  },
  {
   "cell_type": "code",
   "execution_count": 55,
   "metadata": {},
   "outputs": [],
   "source": [
    "train, test = train_test_split(rdfv.molecule.unique(), test_size=1000, random_state=1)\n",
    "train, valid = train_test_split(train, test_size=1000, random_state=1)"
   ]
  },
  {
   "cell_type": "code",
   "execution_count": 56,
   "metadata": {},
   "outputs": [],
   "source": [
    "rdfv['set'] = 'train'\n",
    "rdfv.loc[rdfv.molecule.isin(valid), 'set'] = 'valid'\n",
    "rdfv.loc[rdfv.molecule.isin(test), 'set'] = 'test'"
   ]
  },
  {
   "cell_type": "code",
   "execution_count": 57,
   "metadata": {},
   "outputs": [],
   "source": [
    "rdfv.to_csv('2021015_rdf_new_elements.csv.gz', compression='gzip', index=False)"
   ]
  }
 ],
 "metadata": {
  "kernelspec": {
   "display_name": "Python 3",
   "language": "python",
   "name": "python3"
  },
  "language_info": {
   "codemirror_mode": {
    "name": "ipython",
    "version": 3
   },
   "file_extension": ".py",
   "mimetype": "text/x-python",
   "name": "python",
   "nbconvert_exporter": "python",
   "pygments_lexer": "ipython3",
   "version": "3.7.8"
  }
 },
 "nbformat": 4,
 "nbformat_minor": 4
}
