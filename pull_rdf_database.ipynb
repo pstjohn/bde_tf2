{
 "cells": [
  {
   "cell_type": "code",
   "execution_count": 26,
   "metadata": {},
   "outputs": [],
   "source": [
    "import matplotlib.pyplot as plt\n",
    "import seaborn as sns\n",
    "sns.set(context='talk', style='ticks',\n",
    "        color_codes=True, rc={'legend.frameon': False})\n",
    "\n",
    "%matplotlib inline"
   ]
  },
  {
   "cell_type": "code",
   "execution_count": 1,
   "metadata": {},
   "outputs": [],
   "source": [
    "import pandas as pd\n",
    "import numpy as np\n",
    "\n",
    "import psycopg2\n",
    "\n",
    "dbparams = {\n",
    "    'dbname': 'bde',\n",
    "    'port': 5432,\n",
    "    'host': 'yuma.hpc.nrel.gov',\n",
    "    'user': 'bdeops',\n",
    "    'password': 'BD30ps99!',\n",
    "    'options': f'-c search_path=bde',\n",
    "}\n",
    "\n",
    "with psycopg2.connect(**dbparams) as conn:\n",
    "    rdf = pd.read_sql_query(\"\"\"\n",
    "    SELECT * from reaction_bde;\n",
    "    \"\"\", conn)\n",
    "    \n",
    "    cdf = pd.read_sql_query(\"\"\"\n",
    "    SELECT * from unique_compound where status='finished';\n",
    "    \"\"\", conn)    "
   ]
  },
  {
   "cell_type": "code",
   "execution_count": 2,
   "metadata": {},
   "outputs": [
    {
     "name": "stderr",
     "output_type": "stream",
     "text": [
      "/projects/rlmolecule/pstjohn/envs/tf2/lib/python3.7/site-packages/tqdm/std.py:668: FutureWarning: The Panel class is removed from pandas. Accessing it from the top-level namespace will also be removed in the next version\n",
      "  from pandas import Panel\n",
      "  3%|▎         | 15742/502841 [00:06<03:55, 2069.19it/s]RDKit WARNING: [16:14:12] Conflicting single bond directions around double bond at index 1.\n",
      "RDKit WARNING: [16:14:12]   BondStereo set to STEREONONE and single bond directions set to NONE.\n",
      "RDKit WARNING: [16:14:12] Conflicting single bond directions around double bond at index 1.\n",
      "RDKit WARNING: [16:14:12]   BondStereo set to STEREONONE and single bond directions set to NONE.\n",
      "RDKit WARNING: [16:14:12] Conflicting single bond directions around double bond at index 1.\n",
      "RDKit WARNING: [16:14:12]   BondStereo set to STEREONONE and single bond directions set to NONE.\n",
      "RDKit WARNING: [16:14:12] Conflicting single bond directions around double bond at index 1.\n",
      "RDKit WARNING: [16:14:12]   BondStereo set to STEREONONE and single bond directions set to NONE.\n",
      " 73%|███████▎  | 367100/502841 [02:31<01:03, 2137.13it/s]RDKit WARNING: [16:16:36] Conflicting single bond directions around double bond at index 2.\n",
      "RDKit WARNING: [16:16:36]   BondStereo set to STEREONONE and single bond directions set to NONE.\n",
      "RDKit WARNING: [16:16:36] Conflicting single bond directions around double bond at index 2.\n",
      "RDKit WARNING: [16:16:36]   BondStereo set to STEREONONE and single bond directions set to NONE.\n",
      "RDKit WARNING: [16:16:36] Conflicting single bond directions around double bond at index 2.\n",
      "RDKit WARNING: [16:16:36]   BondStereo set to STEREONONE and single bond directions set to NONE.\n",
      "RDKit WARNING: [16:16:36] Conflicting single bond directions around double bond at index 2.\n",
      "RDKit WARNING: [16:16:36]   BondStereo set to STEREONONE and single bond directions set to NONE.\n",
      "RDKit WARNING: [16:16:36] Conflicting single bond directions around double bond at index 2.\n",
      "RDKit WARNING: [16:16:36]   BondStereo set to STEREONONE and single bond directions set to NONE.\n",
      "RDKit WARNING: [16:16:36] Conflicting single bond directions around double bond at index 2.\n",
      "RDKit WARNING: [16:16:36]   BondStereo set to STEREONONE and single bond directions set to NONE.\n",
      "RDKit WARNING: [16:16:36] Conflicting single bond directions around double bond at index 2.\n",
      "RDKit WARNING: [16:16:36]   BondStereo set to STEREONONE and single bond directions set to NONE.\n",
      " 82%|████████▏ | 410025/502841 [02:48<00:37, 2485.63it/s]RDKit WARNING: [16:16:54] WARNING: not removing hydrogen atom without neighbors\n",
      " 90%|█████████ | 454080/502841 [03:07<00:20, 2390.30it/s]RDKit WARNING: [16:17:12] Conflicting single bond directions around double bond at index 1.\n",
      "RDKit WARNING: [16:17:12]   BondStereo set to STEREONONE and single bond directions set to NONE.\n",
      " 93%|█████████▎| 465957/502841 [03:12<00:15, 2417.64it/s]RDKit WARNING: [16:17:17] Conflicting single bond directions around double bond at index 2.\n",
      "RDKit WARNING: [16:17:17]   BondStereo set to STEREONONE and single bond directions set to NONE.\n",
      "RDKit WARNING: [16:17:17] Conflicting single bond directions around double bond at index 2.\n",
      "RDKit WARNING: [16:17:17]   BondStereo set to STEREONONE and single bond directions set to NONE.\n",
      "100%|██████████| 502841/502841 [04:19<00:00, 1937.36it/s]\n"
     ]
    }
   ],
   "source": [
    "from tqdm import tqdm\n",
    "tqdm.pandas()\n",
    "\n",
    "from rdkit import Chem\n",
    "from collections import Counter\n",
    "def get_elements(smiles):\n",
    "    mol = Chem.MolFromSmiles(smiles)\n",
    "    elems = Counter((atom.GetSymbol() for atom in Chem.AddHs(mol).GetAtoms()))\n",
    "    return pd.Series(elems)\n",
    "    \n",
    "\n",
    "elems = cdf.smiles.progress_apply(get_elements)"
   ]
  },
  {
   "cell_type": "code",
   "execution_count": 3,
   "metadata": {},
   "outputs": [],
   "source": [
    "le_10 = elems.drop('H', 1).sum(1) <= 10"
   ]
  },
  {
   "cell_type": "code",
   "execution_count": 27,
   "metadata": {},
   "outputs": [
    {
     "data": {
      "image/png": "[encoded data removed]",
      "text/plain": [
       "<Figure size 432x288 with 1 Axes>"
      ]
     },
     "metadata": {
      "needs_background": "light"
     },
     "output_type": "display_data"
    }
   ],
   "source": [
    "from sklearn.linear_model import LinearRegression\n",
    "\n",
    "reg = LinearRegression(fit_intercept=False)\n",
    "reg.fit(elems[le_10].fillna(0), cdf[le_10].enthalpy)\n",
    "enthalpy_pred = reg.predict(elems[le_10].fillna(0))\n",
    "\n",
    "ethalpy_err = (cdf[le_10].enthalpy - enthalpy_pred) * 627.509\n",
    "plt.hist(ethalpy_err, bins=30)\n",
    "\n",
    "q1 = ethalpy_err.quantile(.25)\n",
    "q3 = ethalpy_err.quantile(.75)\n",
    "iqr = q3 - q1\n",
    "\n",
    "enthalpy_max = q3 + 3 * iqr\n",
    "enthalpy_min = q1 - 3 * iqr\n",
    "\n",
    "cdf_small = cdf[le_10][ethalpy_err < enthalpy_max]"
   ]
  },
  {
   "cell_type": "code",
   "execution_count": 28,
   "metadata": {},
   "outputs": [
    {
     "data": {
      "text/plain": [
       "(496061, 15)"
      ]
     },
     "execution_count": 28,
     "metadata": {},
     "output_type": "execute_result"
    }
   ],
   "source": [
    "cdf_small.shape"
   ]
  },
  {
   "cell_type": "code",
   "execution_count": 32,
   "metadata": {},
   "outputs": [],
   "source": [
    "is_valid = rdf[['molecule', 'fragment1', 'fragment2']].apply(lambda x: x.isin(cdf_small.smiles), 0).all(1)\n",
    "rdfv = rdf[is_valid]"
   ]
  },
  {
   "cell_type": "code",
   "execution_count": 33,
   "metadata": {},
   "outputs": [
    {
     "data": {
      "text/plain": [
       "1184992"
      ]
     },
     "execution_count": 33,
     "metadata": {},
     "output_type": "execute_result"
    }
   ],
   "source": [
    "len(rdf)"
   ]
  },
  {
   "cell_type": "code",
   "execution_count": 34,
   "metadata": {},
   "outputs": [
    {
     "data": {
      "text/plain": [
       "1172013"
      ]
     },
     "execution_count": 34,
     "metadata": {},
     "output_type": "execute_result"
    }
   ],
   "source": [
    "len(rdfv)"
   ]
  },
  {
   "cell_type": "code",
   "execution_count": 36,
   "metadata": {},
   "outputs": [],
   "source": [
    "rdfv = rdfv.drop_duplicates(subset=['molecule', 'bond_index'])"
   ]
  },
  {
   "cell_type": "code",
   "execution_count": 37,
   "metadata": {},
   "outputs": [
    {
     "data": {
      "text/plain": [
       "(816311, 8)"
      ]
     },
     "execution_count": 37,
     "metadata": {},
     "output_type": "execute_result"
    }
   ],
   "source": [
    "rdfv.shape"
   ]
  },
  {
   "cell_type": "code",
   "execution_count": 41,
   "metadata": {},
   "outputs": [
    {
     "data": {
      "text/html": [
       "<div>\n",
       "<style scoped>\n",
       "    .dataframe tbody tr th:only-of-type {\n",
       "        vertical-align: middle;\n",
       "    }\n",
       "\n",
       "    .dataframe tbody tr th {\n",
       "        vertical-align: top;\n",
       "    }\n",
       "\n",
       "    .dataframe thead th {\n",
       "        text-align: right;\n",
       "    }\n",
       "</style>\n",
       "<table border=\"1\" class=\"dataframe\">\n",
       "  <thead>\n",
       "    <tr style=\"text-align: right;\">\n",
       "      <th></th>\n",
       "      <th>rid</th>\n",
       "      <th>molecule</th>\n",
       "      <th>bond_index</th>\n",
       "      <th>bond_type</th>\n",
       "      <th>fragment1</th>\n",
       "      <th>fragment2</th>\n",
       "      <th>bde</th>\n",
       "      <th>bdfe</th>\n",
       "    </tr>\n",
       "  </thead>\n",
       "  <tbody>\n",
       "    <tr>\n",
       "      <th>0</th>\n",
       "      <td>1643</td>\n",
       "      <td>CC(=O)[C@H](C)O</td>\n",
       "      <td>2</td>\n",
       "      <td>C-C</td>\n",
       "      <td>C[C]=O</td>\n",
       "      <td>C[CH]O</td>\n",
       "      <td>81.637666</td>\n",
       "      <td>67.177976</td>\n",
       "    </tr>\n",
       "    <tr>\n",
       "      <th>1</th>\n",
       "      <td>5327</td>\n",
       "      <td>CN1CCN(CCN)CC1</td>\n",
       "      <td>6</td>\n",
       "      <td>C-N</td>\n",
       "      <td>[CH2]CN1CCN(C)CC1</td>\n",
       "      <td>[NH2]</td>\n",
       "      <td>87.007888</td>\n",
       "      <td>74.432608</td>\n",
       "    </tr>\n",
       "    <tr>\n",
       "      <th>2</th>\n",
       "      <td>5847</td>\n",
       "      <td>OCCc1ncc[nH]1</td>\n",
       "      <td>0</td>\n",
       "      <td>C-O</td>\n",
       "      <td>[CH2]Cc1ncc[nH]1</td>\n",
       "      <td>[OH]</td>\n",
       "      <td>97.708799</td>\n",
       "      <td>85.799933</td>\n",
       "    </tr>\n",
       "    <tr>\n",
       "      <th>3</th>\n",
       "      <td>5849</td>\n",
       "      <td>OCCc1ncc[nH]1</td>\n",
       "      <td>2</td>\n",
       "      <td>C-C</td>\n",
       "      <td>[CH2]CO</td>\n",
       "      <td>[c]1ncc[nH]1</td>\n",
       "      <td>111.388495</td>\n",
       "      <td>97.257620</td>\n",
       "    </tr>\n",
       "    <tr>\n",
       "      <th>4</th>\n",
       "      <td>7480</td>\n",
       "      <td>CCCC(=O)OCC</td>\n",
       "      <td>2</td>\n",
       "      <td>C-C</td>\n",
       "      <td>CCO[C]=O</td>\n",
       "      <td>[CH2]CC</td>\n",
       "      <td>93.436718</td>\n",
       "      <td>79.632775</td>\n",
       "    </tr>\n",
       "    <tr>\n",
       "      <th>...</th>\n",
       "      <td>...</td>\n",
       "      <td>...</td>\n",
       "      <td>...</td>\n",
       "      <td>...</td>\n",
       "      <td>...</td>\n",
       "      <td>...</td>\n",
       "      <td>...</td>\n",
       "      <td>...</td>\n",
       "    </tr>\n",
       "    <tr>\n",
       "      <th>1184983</th>\n",
       "      <td>1164846</td>\n",
       "      <td>O=C(OC1CC1)[C@@H]1C[C@@H]1F</td>\n",
       "      <td>5</td>\n",
       "      <td>C-C</td>\n",
       "      <td>O=[C]OC1CC1</td>\n",
       "      <td>F[C@@H]1[CH]C1</td>\n",
       "      <td>101.072875</td>\n",
       "      <td>87.088837</td>\n",
       "    </tr>\n",
       "    <tr>\n",
       "      <th>1184984</th>\n",
       "      <td>27302</td>\n",
       "      <td>O=C(O)OOC(=O)O</td>\n",
       "      <td>3</td>\n",
       "      <td>O-O</td>\n",
       "      <td>[O]C(=O)O</td>\n",
       "      <td>[O]C(=O)O</td>\n",
       "      <td>38.687185</td>\n",
       "      <td>24.833041</td>\n",
       "    </tr>\n",
       "    <tr>\n",
       "      <th>1184988</th>\n",
       "      <td>1928587</td>\n",
       "      <td>CP(C)CCP(C)C</td>\n",
       "      <td>3</td>\n",
       "      <td>C-C</td>\n",
       "      <td>[CH2]P(C)C</td>\n",
       "      <td>[CH2]P(C)C</td>\n",
       "      <td>79.938372</td>\n",
       "      <td>66.121878</td>\n",
       "    </tr>\n",
       "    <tr>\n",
       "      <th>1184989</th>\n",
       "      <td>1165608</td>\n",
       "      <td>O=C(OC1CC1)[C@H]1C[C@@H]1F</td>\n",
       "      <td>5</td>\n",
       "      <td>C-C</td>\n",
       "      <td>O=[C]OC1CC1</td>\n",
       "      <td>F[C@@H]1[CH]C1</td>\n",
       "      <td>103.767398</td>\n",
       "      <td>89.844856</td>\n",
       "    </tr>\n",
       "    <tr>\n",
       "      <th>1184990</th>\n",
       "      <td>380338</td>\n",
       "      <td>C/C=C(\\C)C(=O)CC</td>\n",
       "      <td>3</td>\n",
       "      <td>C-C</td>\n",
       "      <td>C/[C]=C\\C</td>\n",
       "      <td>CC[C]=O</td>\n",
       "      <td>94.162746</td>\n",
       "      <td>79.501625</td>\n",
       "    </tr>\n",
       "  </tbody>\n",
       "</table>\n",
       "<p>816311 rows × 8 columns</p>\n",
       "</div>"
      ],
      "text/plain": [
       "             rid                     molecule  bond_index bond_type  \\\n",
       "0           1643              CC(=O)[C@H](C)O           2       C-C   \n",
       "1           5327               CN1CCN(CCN)CC1           6       C-N   \n",
       "2           5847                OCCc1ncc[nH]1           0       C-O   \n",
       "3           5849                OCCc1ncc[nH]1           2       C-C   \n",
       "4           7480                  CCCC(=O)OCC           2       C-C   \n",
       "...          ...                          ...         ...       ...   \n",
       "1184983  1164846  O=C(OC1CC1)[C@@H]1C[C@@H]1F           5       C-C   \n",
       "1184984    27302               O=C(O)OOC(=O)O           3       O-O   \n",
       "1184988  1928587                 CP(C)CCP(C)C           3       C-C   \n",
       "1184989  1165608   O=C(OC1CC1)[C@H]1C[C@@H]1F           5       C-C   \n",
       "1184990   380338             C/C=C(\\C)C(=O)CC           3       C-C   \n",
       "\n",
       "                 fragment1       fragment2         bde       bdfe  \n",
       "0                   C[C]=O          C[CH]O   81.637666  67.177976  \n",
       "1        [CH2]CN1CCN(C)CC1           [NH2]   87.007888  74.432608  \n",
       "2         [CH2]Cc1ncc[nH]1            [OH]   97.708799  85.799933  \n",
       "3                  [CH2]CO    [c]1ncc[nH]1  111.388495  97.257620  \n",
       "4                 CCO[C]=O         [CH2]CC   93.436718  79.632775  \n",
       "...                    ...             ...         ...        ...  \n",
       "1184983        O=[C]OC1CC1  F[C@@H]1[CH]C1  101.072875  87.088837  \n",
       "1184984          [O]C(=O)O       [O]C(=O)O   38.687185  24.833041  \n",
       "1184988         [CH2]P(C)C      [CH2]P(C)C   79.938372  66.121878  \n",
       "1184989        O=[C]OC1CC1  F[C@@H]1[CH]C1  103.767398  89.844856  \n",
       "1184990          C/[C]=C\\C         CC[C]=O   94.162746  79.501625  \n",
       "\n",
       "[816311 rows x 8 columns]"
      ]
     },
     "execution_count": 41,
     "metadata": {},
     "output_type": "execute_result"
    }
   ],
   "source": [
    "rdfv.mole"
   ]
  },
  {
   "cell_type": "code",
   "execution_count": 42,
   "metadata": {},
   "outputs": [],
   "source": [
    "from sklearn.model_selection import train_test_split"
   ]
  },
  {
   "cell_type": "code",
   "execution_count": 43,
   "metadata": {},
   "outputs": [],
   "source": [
    "train, test = train_test_split(rdfv.molecule.unique(), test_size=1000, random_state=1)\n",
    "train, valid = train_test_split(train, test_size=1000, random_state=1)"
   ]
  },
  {
   "cell_type": "code",
   "execution_count": 45,
   "metadata": {},
   "outputs": [],
   "source": [
    "rdfv['set'] = 'train'\n",
    "rdfv.loc[rdfv.molecule.isin(valid), 'set'] = 'valid'\n",
    "rdfv.loc[rdfv.molecule.isin(test), 'set'] = 'test'"
   ]
  },
  {
   "cell_type": "code",
   "execution_count": 47,
   "metadata": {},
   "outputs": [],
   "source": [
    "rdfv.to_csv('20200614_rdf_new_elements.csv.gz', compression='gzip', index=False)"
   ]
  },
  {
   "cell_type": "code",
   "execution_count": 129,
   "metadata": {},
   "outputs": [
    {
     "data": {
      "text/html": [
       "<div>\n",
       "<style scoped>\n",
       "    .dataframe tbody tr th:only-of-type {\n",
       "        vertical-align: middle;\n",
       "    }\n",
       "\n",
       "    .dataframe tbody tr th {\n",
       "        vertical-align: top;\n",
       "    }\n",
       "\n",
       "    .dataframe thead th {\n",
       "        text-align: right;\n",
       "    }\n",
       "</style>\n",
       "<table border=\"1\" class=\"dataframe\">\n",
       "  <thead>\n",
       "    <tr style=\"text-align: right;\">\n",
       "      <th></th>\n",
       "      <th>molecule</th>\n",
       "      <th>bond_index</th>\n",
       "    </tr>\n",
       "  </thead>\n",
       "  <tbody>\n",
       "    <tr>\n",
       "      <th>0</th>\n",
       "      <td>CC(=O)[C@H](C)O</td>\n",
       "      <td>2</td>\n",
       "    </tr>\n",
       "    <tr>\n",
       "      <th>1</th>\n",
       "      <td>CN1CCN(CCN)CC1</td>\n",
       "      <td>6</td>\n",
       "    </tr>\n",
       "    <tr>\n",
       "      <th>2</th>\n",
       "      <td>OCCc1ncc[nH]1</td>\n",
       "      <td>0</td>\n",
       "    </tr>\n",
       "    <tr>\n",
       "      <th>3</th>\n",
       "      <td>OCCc1ncc[nH]1</td>\n",
       "      <td>2</td>\n",
       "    </tr>\n",
       "    <tr>\n",
       "      <th>4</th>\n",
       "      <td>CCCC(=O)OCC</td>\n",
       "      <td>2</td>\n",
       "    </tr>\n",
       "    <tr>\n",
       "      <th>...</th>\n",
       "      <td>...</td>\n",
       "      <td>...</td>\n",
       "    </tr>\n",
       "    <tr>\n",
       "      <th>1184983</th>\n",
       "      <td>O=C(OC1CC1)[C@@H]1C[C@@H]1F</td>\n",
       "      <td>5</td>\n",
       "    </tr>\n",
       "    <tr>\n",
       "      <th>1184984</th>\n",
       "      <td>O=C(O)OOC(=O)O</td>\n",
       "      <td>3</td>\n",
       "    </tr>\n",
       "    <tr>\n",
       "      <th>1184988</th>\n",
       "      <td>CP(C)CCP(C)C</td>\n",
       "      <td>3</td>\n",
       "    </tr>\n",
       "    <tr>\n",
       "      <th>1184989</th>\n",
       "      <td>O=C(OC1CC1)[C@H]1C[C@@H]1F</td>\n",
       "      <td>5</td>\n",
       "    </tr>\n",
       "    <tr>\n",
       "      <th>1184990</th>\n",
       "      <td>C/C=C(\\C)C(=O)CC</td>\n",
       "      <td>3</td>\n",
       "    </tr>\n",
       "  </tbody>\n",
       "</table>\n",
       "<p>814120 rows × 2 columns</p>\n",
       "</div>"
      ],
      "text/plain": [
       "                            molecule  bond_index\n",
       "0                    CC(=O)[C@H](C)O           2\n",
       "1                     CN1CCN(CCN)CC1           6\n",
       "2                      OCCc1ncc[nH]1           0\n",
       "3                      OCCc1ncc[nH]1           2\n",
       "4                        CCCC(=O)OCC           2\n",
       "...                              ...         ...\n",
       "1184983  O=C(OC1CC1)[C@@H]1C[C@@H]1F           5\n",
       "1184984               O=C(O)OOC(=O)O           3\n",
       "1184988                 CP(C)CCP(C)C           3\n",
       "1184989   O=C(OC1CC1)[C@H]1C[C@@H]1F           5\n",
       "1184990             C/C=C(\\C)C(=O)CC           3\n",
       "\n",
       "[814120 rows x 2 columns]"
      ]
     },
     "execution_count": 129,
     "metadata": {},
     "output_type": "execute_result"
    }
   ],
   "source": [
    "rdf_ml[['molecule', 'bond_index']]"
   ]
  },
  {
   "cell_type": "code",
   "execution_count": 130,
   "metadata": {},
   "outputs": [
    {
     "data": {
      "text/plain": [
       "[<matplotlib.lines.Line2D at 0x7f53e77f8050>]"
      ]
     },
     "execution_count": 130,
     "metadata": {},
     "output_type": "execute_result"
    },
    {
     "data": {
      "image/png": "[encoded data removed]",
      "text/plain": [
       "<Figure size 432x288 with 1 Axes>"
      ]
     },
     "metadata": {
      "needs_background": "light"
     },
     "output_type": "display_data"
    }
   ],
   "source": [
    "plt.plot(rdf_ml.bde, rdf_ml.bdfe, '.', ms=1)"
   ]
  },
  {
   "cell_type": "code",
   "execution_count": 131,
   "metadata": {},
   "outputs": [],
   "source": [
    "import dill\n",
    "with open('tfrecords/preprocessor.p', 'rb') as f:\n",
    "    preprocessor = dill.load(f)"
   ]
  },
  {
   "cell_type": "code",
   "execution_count": 149,
   "metadata": {},
   "outputs": [
    {
     "data": {
      "text/plain": [
       "195"
      ]
     },
     "execution_count": 149,
     "metadata": {},
     "output_type": "execute_result"
    }
   ],
   "source": [
    "preprocessor.atom_classes"
   ]
  },
  {
   "cell_type": "code",
   "execution_count": 150,
   "metadata": {},
   "outputs": [
    {
     "data": {
      "text/plain": [
       "192"
      ]
     },
     "execution_count": 150,
     "metadata": {},
     "output_type": "execute_result"
    }
   ],
   "source": [
    "preprocessor.bond_classes"
   ]
  },
  {
   "cell_type": "code",
   "execution_count": 132,
   "metadata": {},
   "outputs": [
    {
     "data": {
      "text/plain": [
       "32"
      ]
     },
     "execution_count": 132,
     "metadata": {},
     "output_type": "execute_result"
    }
   ],
   "source": [
    "preprocessor.max_atoms"
   ]
  },
  {
   "cell_type": "code",
   "execution_count": 134,
   "metadata": {},
   "outputs": [
    {
     "data": {
      "text/plain": [
       "31"
      ]
     },
     "execution_count": 134,
     "metadata": {},
     "output_type": "execute_result"
    }
   ],
   "source": [
    "preprocessor.max_bonds"
   ]
  },
  {
   "cell_type": "code",
   "execution_count": 136,
   "metadata": {},
   "outputs": [],
   "source": [
    "import tensorflow as tf"
   ]
  },
  {
   "cell_type": "code",
   "execution_count": 142,
   "metadata": {},
   "outputs": [],
   "source": [
    "example = list(tf.data.TFRecordDataset('tfrecords/train.tfrecord.gz', compression_type='GZIP').take(1))[0]"
   ]
  },
  {
   "cell_type": "code",
   "execution_count": 143,
   "metadata": {},
   "outputs": [],
   "source": [
    "parsed = tf.io.parse_single_example(example, features={\n",
    "    **preprocessor.tfrecord_features,\n",
    "    **{'bde': tf.io.FixedLenFeature([], dtype=tf.string),\n",
    "       'bdfe': tf.io.FixedLenFeature([], dtype=tf.string)}})\n",
    "\n",
    "# All of the array preprocessor features are serialized integer arrays\n",
    "for key, val in preprocessor.tfrecord_features.items():\n",
    "    if val.dtype == tf.string:\n",
    "        parsed[key] = tf.io.parse_tensor(\n",
    "            parsed[key], out_type=preprocessor.output_types[key])\n",
    "\n",
    "# Pop out the prediction target from the stored dictionary as a seperate input\n",
    "parsed['bde'] = tf.io.parse_tensor(parsed['bde'], out_type=tf.float64)\n",
    "parsed['bdfe'] = tf.io.parse_tensor(parsed['bdfe'], out_type=tf.float64)\n",
    "\n",
    "bde = parsed.pop('bde')\n",
    "bdfe = parsed.pop('bdfe')   "
   ]
  },
  {
   "cell_type": "code",
   "execution_count": 148,
   "metadata": {},
   "outputs": [
    {
     "data": {
      "text/plain": [
       "<tf.Tensor: shape=(2, 19), dtype=float64, numpy=\n",
       "array([[ 96.13061375,          nan,          nan,          nan,\n",
       "                 nan,          nan,          nan,          nan,\n",
       "                 nan,  80.25024348,  80.25024348,  80.25024348,\n",
       "        108.6494183 ,          nan,          nan,          nan,\n",
       "                 nan,          nan,          nan],\n",
       "       [109.17527084,          nan,          nan,          nan,\n",
       "                 nan,          nan,          nan,          nan,\n",
       "                 nan,  88.18948735,  88.18948735,  88.18948735,\n",
       "        117.26448936,          nan,          nan,          nan,\n",
       "                 nan,          nan,          nan]])>"
      ]
     },
     "execution_count": 148,
     "metadata": {},
     "output_type": "execute_result"
    }
   ],
   "source": []
  },
  {
   "cell_type": "code",
   "execution_count": null,
   "metadata": {},
   "outputs": [],
   "source": []
  }
 ],
 "metadata": {
  "kernelspec": {
   "display_name": "Python 3",
   "language": "python",
   "name": "python3"
  },
  "language_info": {
   "codemirror_mode": {
    "name": "ipython",
    "version": 3
   },
   "file_extension": ".py",
   "mimetype": "text/x-python",
   "name": "python",
   "nbconvert_exporter": "python",
   "pygments_lexer": "ipython3",
   "version": "3.7.8"
  }
 },
 "nbformat": 4,
 "nbformat_minor": 4
}
